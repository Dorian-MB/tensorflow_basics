{
  "cells": [
    {
      "cell_type": "markdown",
      "metadata": {
        "id": "fDYjtDsqSeCm"
      },
      "source": [
        "# 00. Getting started with TensorFlow: A guide to the fundamentals\n",
        "\n",
        "## What we're going to cover\n",
        "TensorFlow is vast. But the main premise is simple: turn data into numbers (tensors) and build machine learning algorithms to find patterns in them.\n",
        "\n",
        "In this notebook we cover some of the most fundamental TensorFlow operations, more specifically:\n",
        "\n",
        "* Introduction to tensors (creating tensors)\n",
        "* Getting information from tensors (tensor attributes)\n",
        "* Manipulating tensors (tensor operations)\n",
        "* Tensors and NumPy\n",
        "* Using @tf.function (a way to speed up your regular Python functions)\n",
        "* Using GPUs with TensorFlow\n",
        "* Exercises to try\n",
        "\n",
        "## Introduction to Tensors"
      ]
    },
    {
      "cell_type": "code",
      "execution_count": 1,
      "metadata": {
        "colab": {
          "base_uri": "https://localhost:8080/"
        },
        "id": "nNKmX1pLPg84",
        "outputId": "a37ad8df-02d0-4c8e-9d91-12f4d1f1358d"
      },
      "outputs": [
        {
          "name": "stdout",
          "output_type": "stream",
          "text": [
            "2.8.2\n"
          ]
        }
      ],
      "source": [
        "import numpy as np\n",
        "import tensorflow as tf\n",
        "print(tf.__version__)"
      ]
    },
    {
      "cell_type": "markdown",
      "metadata": {
        "id": "7PB7f7cbSX37"
      },
      "source": [
        "## Creating Tensors with `tf.constant()`"
      ]
    },
    {
      "cell_type": "code",
      "execution_count": 2,
      "metadata": {
        "colab": {
          "base_uri": "https://localhost:8080/"
        },
        "id": "PyIqlFwoVBkf",
        "outputId": "759994f5-4373-488e-8d34-8e15cd164e64"
      },
      "outputs": [
        {
          "data": {
            "text/plain": [
              "(0, <tf.Tensor: shape=(), dtype=int32, numpy=2>)"
            ]
          },
          "execution_count": 2,
          "metadata": {},
          "output_type": "execute_result"
        }
      ],
      "source": [
        "scalar = tf.constant(2)\n",
        "scalar.ndim, scalar"
      ]
    },
    {
      "cell_type": "code",
      "execution_count": 3,
      "metadata": {
        "colab": {
          "base_uri": "https://localhost:8080/"
        },
        "id": "yBpoKymbVMRP",
        "outputId": "e9c66f24-1440-42c0-dafb-c5b71837057f"
      },
      "outputs": [
        {
          "data": {
            "text/plain": [
              "(1, <tf.Tensor: shape=(2,), dtype=int32, numpy=array([1, 2], dtype=int32)>)"
            ]
          },
          "execution_count": 3,
          "metadata": {},
          "output_type": "execute_result"
        }
      ],
      "source": [
        "vector = tf.constant([1,2])\n",
        "vector.ndim, vector"
      ]
    },
    {
      "cell_type": "code",
      "execution_count": 4,
      "metadata": {
        "colab": {
          "base_uri": "https://localhost:8080/"
        },
        "id": "_RJK0HclVhaC",
        "outputId": "60bf6de2-0435-4819-d0a1-2c2214f5a579"
      },
      "outputs": [
        {
          "data": {
            "text/plain": [
              "(2, <tf.Tensor: shape=(2, 3), dtype=int32, numpy=\n",
              " array([[1, 2, 3],\n",
              "        [4, 5, 6]], dtype=int32)>)"
            ]
          },
          "execution_count": 4,
          "metadata": {},
          "output_type": "execute_result"
        }
      ],
      "source": [
        "matrix = tf.constant([[1,2,3],\n",
        "                      [4,5,6]])\n",
        "matrix.ndim, matrix"
      ]
    },
    {
      "cell_type": "code",
      "execution_count": 5,
      "metadata": {
        "colab": {
          "base_uri": "https://localhost:8080/"
        },
        "id": "OUVFrsenVtr6",
        "outputId": "1ed6eb1e-f00d-40ad-f86b-0af249191f15"
      },
      "outputs": [
        {
          "data": {
            "text/plain": [
              "(3, <tf.Tensor: shape=(3, 2, 3), dtype=int32, numpy=\n",
              " array([[[ 1,  2,  3],\n",
              "         [ 4,  5,  6]],\n",
              " \n",
              "        [[ 7,  8,  9],\n",
              "         [10, 11, 12]],\n",
              " \n",
              "        [[13, 14, 15],\n",
              "         [16, 17, 18]]], dtype=int32)>)"
            ]
          },
          "execution_count": 5,
          "metadata": {},
          "output_type": "execute_result"
        }
      ],
      "source": [
        "tensor = tf.constant([[[1, 2, 3],\n",
        "                       [4, 5, 6]],\n",
        "                      [[7, 8, 9],\n",
        "                       [10, 11, 12]],\n",
        "                      [[13, 14, 15],\n",
        "                       [16, 17, 18]]])\n",
        "tensor.ndim, tensor"
      ]
    },
    {
      "cell_type": "markdown",
      "metadata": {
        "id": "jZGBByvWWGVD"
      },
      "source": [
        "* **scalar**: a single number.\n",
        "* **vector**: a number with direction (e.g. wind speed with direction).\n",
        "* **matrix**: a 2-dimensional array of numbers.\n",
        "* **tensor**: an n-dimensional array of numbers (where n∈N)."
      ]
    },
    {
      "cell_type": "markdown",
      "metadata": {
        "id": "_YngSS82Xvlh"
      },
      "source": [
        "## Creating Tensors with `tf.Variable()`\n"
      ]
    },
    {
      "cell_type": "code",
      "execution_count": 6,
      "metadata": {
        "colab": {
          "base_uri": "https://localhost:8080/"
        },
        "id": "0goPWjNuWGEr",
        "outputId": "20c2584b-c8c9-4706-bd68-67ac9845cae1"
      },
      "outputs": [
        {
          "data": {
            "text/plain": [
              "(<tf.Variable 'Variable:0' shape=(2,) dtype=int32, numpy=array([1, 2], dtype=int32)>,\n",
              " <tf.Tensor: shape=(2,), dtype=int32, numpy=array([1, 2], dtype=int32)>)"
            ]
          },
          "execution_count": 6,
          "metadata": {},
          "output_type": "execute_result"
        }
      ],
      "source": [
        "changeable_tensor = tf.Variable([1,2])\n",
        "unchangeable_tensor = tf.constant([1,2])\n",
        "\n",
        "changeable_tensor, unchangeable_tensor"
      ]
    },
    {
      "cell_type": "code",
      "execution_count": 7,
      "metadata": {
        "colab": {
          "base_uri": "https://localhost:8080/"
        },
        "id": "uzvcoQqXV5vU",
        "outputId": "0d5a05b8-1f32-4e96-c3c7-5ff1be166ce2"
      },
      "outputs": [
        {
          "name": "stdout",
          "output_type": "stream",
          "text": [
            "TypeError: 'ResourceVariable' object does not support item assignment\n"
          ]
        }
      ],
      "source": [
        "try :\n",
        "    changeable_tensor[0] = 2\n",
        "except TypeError :\n",
        "    print(\"TypeError: 'ResourceVariable' object does not support item assignment\")"
      ]
    },
    {
      "cell_type": "code",
      "execution_count": 8,
      "metadata": {
        "colab": {
          "base_uri": "https://localhost:8080/"
        },
        "id": "rbISqleaYa_D",
        "outputId": "6c04136b-dc60-45d5-ce56-31e829a68999"
      },
      "outputs": [
        {
          "data": {
            "text/plain": [
              "<tf.Variable 'UnreadVariable' shape=(2,) dtype=int32, numpy=array([2, 2], dtype=int32)>"
            ]
          },
          "execution_count": 8,
          "metadata": {},
          "output_type": "execute_result"
        }
      ],
      "source": [
        "changeable_tensor[0].assign(2) # inplace\n"
      ]
    },
    {
      "cell_type": "code",
      "execution_count": 9,
      "metadata": {
        "colab": {
          "base_uri": "https://localhost:8080/"
        },
        "id": "P0JRfAQLjIVY",
        "outputId": "1a5d2d18-38ad-42f4-fc43-7b6edf779ccf"
      },
      "outputs": [
        {
          "data": {
            "text/plain": [
              "<tf.Variable 'Variable:0' shape=(5,) dtype=int64, numpy=array([0, 1, 2, 3, 4])>"
            ]
          },
          "execution_count": 9,
          "metadata": {},
          "output_type": "execute_result"
        }
      ],
      "source": [
        "tensor = tf.Variable(np.arange(5))\n",
        "tensor"
      ]
    },
    {
      "cell_type": "code",
      "execution_count": 10,
      "metadata": {
        "colab": {
          "base_uri": "https://localhost:8080/"
        },
        "id": "NS2d71D1jO1b",
        "outputId": "1fe8a48a-5336-4d07-8f8b-f75858df7855"
      },
      "outputs": [
        {
          "data": {
            "text/plain": [
              "<tf.Variable 'UnreadVariable' shape=(5,) dtype=int64, numpy=array([ 0,  1,  2,  3, 40])>"
            ]
          },
          "execution_count": 10,
          "metadata": {},
          "output_type": "execute_result"
        }
      ],
      "source": [
        "tensor.assign([0, 1, 2, 3, 40]) # inplace change"
      ]
    },
    {
      "cell_type": "code",
      "execution_count": 11,
      "metadata": {
        "colab": {
          "base_uri": "https://localhost:8080/"
        },
        "id": "lC8XPcR3jWjK",
        "outputId": "37dc505c-0f3d-49a9-a436-694d1f0ddb13"
      },
      "outputs": [
        {
          "data": {
            "text/plain": [
              "<tf.Variable 'UnreadVariable' shape=(5,) dtype=int64, numpy=array([10, 11, 12, 13, 50])>"
            ]
          },
          "execution_count": 11,
          "metadata": {},
          "output_type": "execute_result"
        }
      ],
      "source": [
        "tensor.assign_add([10, 10, 10, 10, 10]) # inplace change"
      ]
    },
    {
      "cell_type": "code",
      "execution_count": 12,
      "metadata": {
        "colab": {
          "base_uri": "https://localhost:8080/"
        },
        "id": "jbWfTML7jiVV",
        "outputId": "94d09134-a9bb-4646-d40b-b378c91b7aa8"
      },
      "outputs": [
        {
          "data": {
            "text/plain": [
              "<tf.Variable 'Variable:0' shape=(5,) dtype=int64, numpy=array([10, 11, 12, 13, 50])>"
            ]
          },
          "execution_count": 12,
          "metadata": {},
          "output_type": "execute_result"
        }
      ],
      "source": [
        "tensor"
      ]
    },
    {
      "cell_type": "markdown",
      "metadata": {
        "id": "qih6D-mrZjgk"
      },
      "source": [
        "## Creating random tensors\n",
        "\n",
        "This is what neural networks use to **intialize their weights (patterns)** that they're trying to learn in the data.\n",
        "\n",
        "We can create random tensors by using the \n",
        "<a href=\"https://www.tensorflow.org/guide/random_numbers#the_tfrandomgenerator_class\">`tf.random.Generator`</a> \n",
        "class."
      ]
    },
    {
      "cell_type": "code",
      "execution_count": 13,
      "metadata": {
        "colab": {
          "base_uri": "https://localhost:8080/"
        },
        "id": "y_WO4q3MYoqh",
        "outputId": "cdf76187-1dd4-4a1a-c4bd-6e1ea7429557"
      },
      "outputs": [
        {
          "data": {
            "text/plain": [
              "(<tf.Tensor: shape=(3, 2), dtype=float32, numpy=\n",
              " array([[-1.3544159 ,  0.70454913],\n",
              "        [ 0.03666191,  0.86918795],\n",
              "        [ 0.43842277, -0.53439844]], dtype=float32)>,\n",
              " <tf.Tensor: shape=(3, 2), dtype=float32, numpy=\n",
              " array([[-1.3544159 ,  0.70454913],\n",
              "        [ 0.03666191,  0.86918795],\n",
              "        [ 0.43842277, -0.53439844]], dtype=float32)>,\n",
              " True)"
            ]
          },
          "execution_count": 13,
          "metadata": {},
          "output_type": "execute_result"
        }
      ],
      "source": [
        "# Create two random (but the same) tensors\n",
        "random_1 = tf.random.Generator.from_seed(0) # set the seed for reproducibility\n",
        "random_1 = random_1.normal(shape=(3, 2)) # create tensor from a normal distribution \n",
        "random_2 = tf.random.Generator.from_seed(0)\n",
        "random_2 = random_2.normal(shape=(3, 2))\n",
        "\n",
        "# Are they equal?\n",
        "random_1, random_2, np.all(random_1 == random_2)"
      ]
    },
    {
      "cell_type": "code",
      "execution_count": 14,
      "metadata": {
        "colab": {
          "base_uri": "https://localhost:8080/"
        },
        "id": "rWyNnOyqYq4A",
        "outputId": "ee4b9dcf-c573-4833-ae8f-83449b394e31"
      },
      "outputs": [
        {
          "data": {
            "text/plain": [
              "<tf.Tensor: shape=(2, 3), dtype=float32, numpy=\n",
              "array([[ 0.5250821 ,  1.3795334 ,  1.6613544 ],\n",
              "       [-0.51146865,  1.1496319 , -1.3104615 ]], dtype=float32)>"
            ]
          },
          "execution_count": 14,
          "metadata": {},
          "output_type": "execute_result"
        }
      ],
      "source": [
        "g2 = tf.random.get_global_generator()\n",
        "g2.normal(shape=[2, 3]) # different each time"
      ]
    },
    {
      "cell_type": "markdown",
      "metadata": {
        "id": "-CapJZU9me0Z"
      },
      "source": [
        "## Shuffle tensors"
      ]
    },
    {
      "cell_type": "code",
      "execution_count": 15,
      "metadata": {
        "colab": {
          "base_uri": "https://localhost:8080/"
        },
        "id": "6KRiwLqLb4sf",
        "outputId": "69e11613-7b7c-4106-d70e-5583021b9e87"
      },
      "outputs": [
        {
          "data": {
            "text/plain": [
              "<tf.Tensor: shape=(4, 2), dtype=int32, numpy=\n",
              "array([[1, 2],\n",
              "       [3, 4],\n",
              "       [5, 6],\n",
              "       [7, 8]], dtype=int32)>"
            ]
          },
          "execution_count": 15,
          "metadata": {},
          "output_type": "execute_result"
        }
      ],
      "source": [
        "not_shuffle = tf.constant([[1,2],\n",
        "                           [3,4],\n",
        "                           [5,6],\n",
        "                           [7,8]])\n",
        "\n",
        "tf.random.shuffle(not_shuffle)"
      ]
    },
    {
      "cell_type": "code",
      "execution_count": 16,
      "metadata": {
        "colab": {
          "base_uri": "https://localhost:8080/"
        },
        "id": "sdliApEanHFp",
        "outputId": "42ee40b5-58da-43c2-8f8b-d1b97e808e59"
      },
      "outputs": [
        {
          "data": {
            "text/plain": [
              "<tf.Tensor: shape=(4, 2), dtype=int32, numpy=\n",
              "array([[3, 4],\n",
              "       [5, 6],\n",
              "       [1, 2],\n",
              "       [7, 8]], dtype=int32)>"
            ]
          },
          "execution_count": 16,
          "metadata": {},
          "output_type": "execute_result"
        }
      ],
      "source": [
        "tf.random.shuffle(not_shuffle, seed=0) # operation level random seed"
      ]
    },
    {
      "cell_type": "markdown",
      "metadata": {
        "id": "mZw6GzQ1nkEO"
      },
      "source": [
        "**You can also set the global seed using `tf.random.set_seed`**\n",
        "<br>\n",
        "**Note :** if both *global* and *operational* seed are set, both seeds are used in conjuction to determine the random sequence."
      ]
    },
    {
      "cell_type": "markdown",
      "metadata": {
        "id": "PusjI4gfnics"
      },
      "source": [
        "## Other way to create tensor"
      ]
    },
    {
      "cell_type": "code",
      "execution_count": 17,
      "metadata": {
        "colab": {
          "base_uri": "https://localhost:8080/"
        },
        "id": "Te3J6ASnomII",
        "outputId": "f96e0d86-c3d7-4d72-f754-44852bf67886"
      },
      "outputs": [
        {
          "data": {
            "text/plain": [
              "<tf.Tensor: shape=(4, 8), dtype=float32, numpy=\n",
              "array([[1., 1., 1., 1., 1., 1., 1., 1.],\n",
              "       [1., 1., 1., 1., 1., 1., 1., 1.],\n",
              "       [1., 1., 1., 1., 1., 1., 1., 1.],\n",
              "       [1., 1., 1., 1., 1., 1., 1., 1.]], dtype=float32)>"
            ]
          },
          "execution_count": 17,
          "metadata": {},
          "output_type": "execute_result"
        }
      ],
      "source": [
        " tf.ones([4,8])"
      ]
    },
    {
      "cell_type": "code",
      "execution_count": 18,
      "metadata": {
        "colab": {
          "base_uri": "https://localhost:8080/"
        },
        "id": "M0nvF4iDppaX",
        "outputId": "89fe31db-05c8-46c4-9361-80179bbc3497"
      },
      "outputs": [
        {
          "data": {
            "text/plain": [
              "<tf.Tensor: shape=(4, 8), dtype=float32, numpy=\n",
              "array([[0., 0., 0., 0., 0., 0., 0., 0.],\n",
              "       [0., 0., 0., 0., 0., 0., 0., 0.],\n",
              "       [0., 0., 0., 0., 0., 0., 0., 0.],\n",
              "       [0., 0., 0., 0., 0., 0., 0., 0.]], dtype=float32)>"
            ]
          },
          "execution_count": 18,
          "metadata": {},
          "output_type": "execute_result"
        }
      ],
      "source": [
        "tf.zeros([4,8])"
      ]
    },
    {
      "cell_type": "markdown",
      "metadata": {
        "id": "ZpLCbH-xtF2R"
      },
      "source": [
        "### Convert NumPy array to TenorFlow tensor"
      ]
    },
    {
      "cell_type": "code",
      "execution_count": 19,
      "metadata": {
        "colab": {
          "base_uri": "https://localhost:8080/"
        },
        "id": "rsXBiS21ps7q",
        "outputId": "7f17a082-9f1e-435f-9b9b-0000ba4b2ba9"
      },
      "outputs": [
        {
          "data": {
            "text/plain": [
              "<tf.Tensor: shape=(4, 8), dtype=int64, numpy=\n",
              "array([[5, 2, 1, 8, 4, 6, 4, 3],\n",
              "       [1, 6, 1, 0, 5, 7, 8, 0],\n",
              "       [4, 2, 1, 1, 4, 9, 3, 1],\n",
              "       [1, 9, 0, 9, 1, 6, 1, 4]])>"
            ]
          },
          "execution_count": 19,
          "metadata": {},
          "output_type": "execute_result"
        }
      ],
      "source": [
        "A_array = np.random.randint(0, 10, [4,8])\n",
        "\n",
        "A_tensor = tf.constant(A_array)\n",
        "A_tensor"
      ]
    },
    {
      "cell_type": "code",
      "execution_count": 20,
      "metadata": {
        "colab": {
          "base_uri": "https://localhost:8080/"
        },
        "id": "4y7WHJOWp_JA",
        "outputId": "5ab560b8-2545-4759-b84f-8b803a6e51ff"
      },
      "outputs": [
        {
          "data": {
            "text/plain": [
              "<tf.Tensor: shape=(2, 2, 8), dtype=int64, numpy=\n",
              "array([[[5, 2, 1, 8, 4, 6, 4, 3],\n",
              "        [1, 6, 1, 0, 5, 7, 8, 0]],\n",
              "\n",
              "       [[4, 2, 1, 1, 4, 9, 3, 1],\n",
              "        [1, 9, 0, 9, 1, 6, 1, 4]]])>"
            ]
          },
          "execution_count": 20,
          "metadata": {},
          "output_type": "execute_result"
        }
      ],
      "source": [
        "A_tensor_reshape = tf.constant(A_array, shape=(2,2,8))\n",
        "A_tensor_reshape"
      ]
    },
    {
      "cell_type": "markdown",
      "metadata": {
        "id": "9QT1dMZXqvFG"
      },
      "source": [
        "**NOTE :** The purpose of tensor is that tensor can be run on GPU => way more faster "
      ]
    },
    {
      "cell_type": "markdown",
      "metadata": {
        "id": "VFYy_I5_tMso"
      },
      "source": [
        "### Convert TensorFlow tensor to NumPy array"
      ]
    },
    {
      "cell_type": "code",
      "execution_count": 21,
      "metadata": {
        "colab": {
          "base_uri": "https://localhost:8080/"
        },
        "id": "J5XT5Cyvqclc",
        "outputId": "6214e9f8-6c2e-4af6-9c39-3eefa8d3ea2b"
      },
      "outputs": [
        {
          "data": {
            "text/plain": [
              "array([[[5, 2, 1, 8, 4, 6, 4, 3],\n",
              "        [1, 6, 1, 0, 5, 7, 8, 0]],\n",
              "\n",
              "       [[4, 2, 1, 1, 4, 9, 3, 1],\n",
              "        [1, 9, 0, 9, 1, 6, 1, 4]]])"
            ]
          },
          "execution_count": 21,
          "metadata": {},
          "output_type": "execute_result"
        }
      ],
      "source": [
        "A_tensor_reshape.numpy()"
      ]
    },
    {
      "cell_type": "code",
      "execution_count": 22,
      "metadata": {
        "colab": {
          "base_uri": "https://localhost:8080/"
        },
        "id": "9YCnmoJIrSZR",
        "outputId": "bdc52080-1b15-44c9-c100-76bff36ad4d2"
      },
      "outputs": [
        {
          "data": {
            "text/plain": [
              "array([[[5, 2, 1, 8, 4, 6, 4, 3],\n",
              "        [1, 6, 1, 0, 5, 7, 8, 0]],\n",
              "\n",
              "       [[4, 2, 1, 1, 4, 9, 3, 1],\n",
              "        [1, 9, 0, 9, 1, 6, 1, 4]]])"
            ]
          },
          "execution_count": 22,
          "metadata": {},
          "output_type": "execute_result"
        }
      ],
      "source": [
        "np.array(A_tensor_reshape)"
      ]
    },
    {
      "cell_type": "markdown",
      "metadata": {
        "id": "fbrbgDietXEQ"
      },
      "source": [
        "## Getting information from tensors (shape, rank, size)"
      ]
    },
    {
      "cell_type": "code",
      "execution_count": 23,
      "metadata": {
        "colab": {
          "base_uri": "https://localhost:8080/"
        },
        "id": "2Is5pegktfex",
        "outputId": "51cc1b07-37e5-43fc-ea54-c9a19255953a"
      },
      "outputs": [
        {
          "name": "stdout",
          "output_type": "stream",
          "text": [
            "Datatype of every element: <dtype: 'float32'>\n",
            "Number of dimensions (rank): 4\n",
            "Shape of tensor: (2, 3, 4, 5)\n",
            "Elements along axis 0 of tensor: 2\n",
            "Elements along last axis of tensor: 5\n",
            "Total number of elements (2*3*4*5): 120\n"
          ]
        }
      ],
      "source": [
        "rank_4_tensor = tf.zeros([2, 3, 4, 5])\n",
        "\n",
        "# Get various attributes of tensor\n",
        "print(\"Datatype of every element:\", rank_4_tensor.dtype)\n",
        "print(\"Number of dimensions (rank):\", rank_4_tensor.ndim)\n",
        "print(\"Shape of tensor:\", rank_4_tensor.shape)\n",
        "print(\"Elements along axis 0 of tensor:\", rank_4_tensor.shape[0])\n",
        "print(\"Elements along last axis of tensor:\", rank_4_tensor.shape[-1])\n",
        "print(\"Total number of elements (2*3*4*5):\", tf.size(rank_4_tensor).numpy())"
      ]
    },
    {
      "cell_type": "markdown",
      "metadata": {
        "id": "C4l99B1rtrlI"
      },
      "source": [
        "## Index Tensors AND reshape\n",
        "You can also index tensors just like NumPy array."
      ]
    },
    {
      "cell_type": "code",
      "execution_count": 24,
      "metadata": {
        "colab": {
          "base_uri": "https://localhost:8080/"
        },
        "id": "JtMbRhGftlpO",
        "outputId": "45578219-0e2e-43be-9381-52325c912e24"
      },
      "outputs": [
        {
          "data": {
            "text/plain": [
              "<tf.Tensor: shape=(2, 3, 5), dtype=int32, numpy=\n",
              "array([[[2, 2, 3, 2, 2],\n",
              "        [3, 4, 3, 2, 2],\n",
              "        [2, 3, 2, 3, 2]],\n",
              "\n",
              "       [[3, 2, 4, 4, 3],\n",
              "        [4, 2, 3, 1, 4],\n",
              "        [2, 1, 4, 2, 2]]], dtype=int32)>"
            ]
          },
          "execution_count": 24,
          "metadata": {},
          "output_type": "execute_result"
        }
      ],
      "source": [
        "random_tensor = tf.random.uniform(shape=(2,3,5), minval=1, maxval=5, dtype=tf.int32, seed=0)\n",
        "random_tensor"
      ]
    },
    {
      "cell_type": "code",
      "execution_count": 25,
      "metadata": {
        "colab": {
          "base_uri": "https://localhost:8080/"
        },
        "id": "rFR1TFZJuJkV",
        "outputId": "0e40e7c2-adbb-488c-be13-dd8fe1ed9ec0"
      },
      "outputs": [
        {
          "data": {
            "text/plain": [
              "<tf.Tensor: shape=(3, 5), dtype=int32, numpy=\n",
              "array([[2, 2, 3, 2, 2],\n",
              "       [3, 4, 3, 2, 2],\n",
              "       [2, 3, 2, 3, 2]], dtype=int32)>"
            ]
          },
          "execution_count": 25,
          "metadata": {},
          "output_type": "execute_result"
        }
      ],
      "source": [
        "random_tensor[0]"
      ]
    },
    {
      "cell_type": "code",
      "execution_count": 26,
      "metadata": {
        "colab": {
          "base_uri": "https://localhost:8080/"
        },
        "id": "nPPELHfjuZdE",
        "outputId": "abd92afe-8a73-47aa-f2ab-9b816f268906"
      },
      "outputs": [
        {
          "data": {
            "text/plain": [
              "<tf.Tensor: shape=(2, 5), dtype=int32, numpy=\n",
              "array([[2, 2, 3, 2, 2],\n",
              "       [3, 2, 4, 4, 3]], dtype=int32)>"
            ]
          },
          "execution_count": 26,
          "metadata": {},
          "output_type": "execute_result"
        }
      ],
      "source": [
        "random_tensor[:,0]"
      ]
    },
    {
      "cell_type": "code",
      "execution_count": 27,
      "metadata": {
        "colab": {
          "base_uri": "https://localhost:8080/"
        },
        "id": "7ShOHk0EubSJ",
        "outputId": "678b54a6-f91f-44c1-fe07-752eff04405b"
      },
      "outputs": [
        {
          "data": {
            "text/plain": [
              "<tf.Tensor: shape=(2, 3), dtype=int32, numpy=\n",
              "array([[2, 3, 2],\n",
              "       [3, 4, 2]], dtype=int32)>"
            ]
          },
          "execution_count": 27,
          "metadata": {},
          "output_type": "execute_result"
        }
      ],
      "source": [
        "random_tensor[:,:,0]"
      ]
    },
    {
      "cell_type": "code",
      "execution_count": 28,
      "metadata": {
        "colab": {
          "base_uri": "https://localhost:8080/"
        },
        "id": "dOpv-1_juc64",
        "outputId": "a5f7372f-ecfd-4b7b-8a31-e63e6d1a17ae"
      },
      "outputs": [
        {
          "data": {
            "text/plain": [
              "<tf.Tensor: shape=(2, 3, 5, 1), dtype=int32, numpy=\n",
              "array([[[[2],\n",
              "         [2],\n",
              "         [3],\n",
              "         [2],\n",
              "         [2]],\n",
              "\n",
              "        [[3],\n",
              "         [4],\n",
              "         [3],\n",
              "         [2],\n",
              "         [2]],\n",
              "\n",
              "        [[2],\n",
              "         [3],\n",
              "         [2],\n",
              "         [3],\n",
              "         [2]]],\n",
              "\n",
              "\n",
              "       [[[3],\n",
              "         [2],\n",
              "         [4],\n",
              "         [4],\n",
              "         [3]],\n",
              "\n",
              "        [[4],\n",
              "         [2],\n",
              "         [3],\n",
              "         [1],\n",
              "         [4]],\n",
              "\n",
              "        [[2],\n",
              "         [1],\n",
              "         [4],\n",
              "         [2],\n",
              "         [2]]]], dtype=int32)>"
            ]
          },
          "execution_count": 28,
          "metadata": {},
          "output_type": "execute_result"
        }
      ],
      "source": [
        "tf.reshape(random_tensor, [2,3,5,1])"
      ]
    },
    {
      "cell_type": "markdown",
      "metadata": {
        "id": "j_yZeRhZu8Q1"
      },
      "source": [
        "## Manipulating tensors (tensor operations)"
      ]
    },
    {
      "cell_type": "markdown",
      "metadata": {
        "id": "SpHF2HZKvuE3"
      },
      "source": [
        "### Basic operations : `+` `-` `*` `/` "
      ]
    },
    {
      "cell_type": "code",
      "execution_count": 29,
      "metadata": {
        "colab": {
          "base_uri": "https://localhost:8080/"
        },
        "id": "G1Kl2lscxLF4",
        "outputId": "7851179b-94d5-4e6d-ecf4-d19efed9b688"
      },
      "outputs": [
        {
          "data": {
            "text/plain": [
              "<tf.Tensor: shape=(2, 2), dtype=int32, numpy=\n",
              "array([[10, 11],\n",
              "       [12, 13]], dtype=int32)>"
            ]
          },
          "execution_count": 29,
          "metadata": {},
          "output_type": "execute_result"
        }
      ],
      "source": [
        "tensor = tf.constant([[0,1],\n",
        "                      [2,3]])\n",
        "\n",
        "tensor + 10"
      ]
    },
    {
      "cell_type": "code",
      "execution_count": 30,
      "metadata": {
        "colab": {
          "base_uri": "https://localhost:8080/"
        },
        "id": "O3VEdPxsxbix",
        "outputId": "8ef4281d-f47e-4d2b-d6a6-ce38f075dc04"
      },
      "outputs": [
        {
          "data": {
            "text/plain": [
              "<tf.Tensor: shape=(2, 2), dtype=int32, numpy=\n",
              "array([[ 0, 10],\n",
              "       [20, 30]], dtype=int32)>"
            ]
          },
          "execution_count": 30,
          "metadata": {},
          "output_type": "execute_result"
        }
      ],
      "source": [
        "tensor * 10"
      ]
    },
    {
      "cell_type": "markdown",
      "metadata": {
        "id": "F-bpTS6Lxd0s"
      },
      "source": [
        "### In-build [functions](https://www.dummies.com/article/technology/information-technology/ai/machine-learning/create-basic-math-operations-tensorflow-253490/)\n",
        "\n",
        "Using the TensorFlow function (where possible) has the advantage of being sped up later down the line when running as part of a \n",
        "[TensorFlow graph](https://www.tensorflow.org/tensorboard/graphs).\n",
        "\n",
        "* Add\n",
        "* Subtract\n",
        "* Multiply\n",
        "* Divide\n",
        "* Square\n",
        "* Reshape"
      ]
    },
    {
      "cell_type": "code",
      "execution_count": 31,
      "metadata": {
        "colab": {
          "base_uri": "https://localhost:8080/"
        },
        "id": "RftrHz28yXk_",
        "outputId": "dc25dc91-5b1f-4100-f1c9-3ab7182b1bcc"
      },
      "outputs": [
        {
          "data": {
            "text/plain": [
              "<tf.Tensor: shape=(2, 2), dtype=int32, numpy=\n",
              "array([[10, 11],\n",
              "       [12, 13]], dtype=int32)>"
            ]
          },
          "execution_count": 31,
          "metadata": {},
          "output_type": "execute_result"
        }
      ],
      "source": [
        "tf.add(tensor, 10)"
      ]
    },
    {
      "cell_type": "code",
      "execution_count": 32,
      "metadata": {
        "colab": {
          "base_uri": "https://localhost:8080/"
        },
        "id": "8QghozBNyS6e",
        "outputId": "951585f9-036d-4d38-ed0c-16ceb6c9a9e1"
      },
      "outputs": [
        {
          "data": {
            "text/plain": [
              "<tf.Tensor: shape=(2, 2), dtype=int32, numpy=\n",
              "array([[ 0, 10],\n",
              "       [20, 30]], dtype=int32)>"
            ]
          },
          "execution_count": 32,
          "metadata": {},
          "output_type": "execute_result"
        }
      ],
      "source": [
        "tf.multiply(tensor, 10)"
      ]
    },
    {
      "cell_type": "markdown",
      "metadata": {
        "id": "LQFvHCknyWHu"
      },
      "source": [
        "### [Math operation](https://www.tensorflow.org/api_docs/python/tf/math) : `tf.math`"
      ]
    },
    {
      "cell_type": "code",
      "execution_count": 33,
      "metadata": {
        "colab": {
          "base_uri": "https://localhost:8080/"
        },
        "id": "_i6gOrC1z7YK",
        "outputId": "26d65609-e619-47dd-f2ca-a51a96ba9ff3"
      },
      "outputs": [
        {
          "data": {
            "text/plain": [
              "<tf.Tensor: shape=(2, 2), dtype=int32, numpy=\n",
              "array([[ 0,  1],\n",
              "       [ 8, 27]], dtype=int32)>"
            ]
          },
          "execution_count": 33,
          "metadata": {},
          "output_type": "execute_result"
        }
      ],
      "source": [
        "# Ex :\n",
        "tf.math.pow(tensor, 3)"
      ]
    },
    {
      "cell_type": "markdown",
      "metadata": {
        "id": "4INU2IqhugQi"
      },
      "source": [
        "### Transpose : `tf.transpose`"
      ]
    },
    {
      "cell_type": "code",
      "execution_count": 34,
      "metadata": {
        "colab": {
          "base_uri": "https://localhost:8080/"
        },
        "id": "doT7yDOEulvu",
        "outputId": "cfe7afac-57d6-4cdc-ff87-e8cef8f020eb"
      },
      "outputs": [
        {
          "data": {
            "text/plain": [
              "TensorShape([2, 3])"
            ]
          },
          "execution_count": 34,
          "metadata": {},
          "output_type": "execute_result"
        }
      ],
      "source": [
        "tensor = tf.constant([[0, 1, 2],\n",
        "                      [3, 4 ,5]])\n",
        "tensor.shape"
      ]
    },
    {
      "cell_type": "code",
      "execution_count": 35,
      "metadata": {
        "colab": {
          "base_uri": "https://localhost:8080/"
        },
        "id": "KDbuwj2Iuln7",
        "outputId": "a6750878-7ad6-48d8-d23a-cd91f8a55b26"
      },
      "outputs": [
        {
          "data": {
            "text/plain": [
              "(<tf.Tensor: shape=(3, 2), dtype=int32, numpy=\n",
              " array([[0, 3],\n",
              "        [1, 4],\n",
              "        [2, 5]], dtype=int32)>, TensorShape([3, 2]))"
            ]
          },
          "execution_count": 35,
          "metadata": {},
          "output_type": "execute_result"
        }
      ],
      "source": [
        "tensor = tf.transpose(tensor)\n",
        "tensor, tensor.shape"
      ]
    },
    {
      "cell_type": "markdown",
      "metadata": {
        "id": "wazTUneWuowt"
      },
      "source": [
        "### Basic function : `reduce_min` `reduce_max` `reduce_sum` `reduce_mean` etc..."
      ]
    },
    {
      "cell_type": "code",
      "execution_count": 36,
      "metadata": {
        "colab": {
          "base_uri": "https://localhost:8080/"
        },
        "id": "NWmGOwXMupG1",
        "outputId": "74a4be93-f71e-44f7-a979-b685e190b897"
      },
      "outputs": [
        {
          "data": {
            "text/plain": [
              "<tf.Tensor: shape=(5, 10), dtype=float32, numpy=\n",
              "array([[ 1., 18., 10., 31.,  8., 15., 70., 30., 94., 21.],\n",
              "       [76., 32., 23., 18., 17., 19., 83., 90., 88., 93.],\n",
              "       [ 1., 35., 15., 54., 19., 17., 42., 22., 70., 90.],\n",
              "       [61., 56., 17., 69., 39., 98., 53., 51.,  3., 29.],\n",
              "       [79., 64., 72., 41., 95.,  3., 74., 18., 91., 22.]], dtype=float32)>"
            ]
          },
          "execution_count": 36,
          "metadata": {},
          "output_type": "execute_result"
        }
      ],
      "source": [
        "tensor = tf.constant( np.random.randint(0, 100, (5, 10)), dtype=tf.float32)\n",
        "tensor"
      ]
    },
    {
      "cell_type": "code",
      "execution_count": 37,
      "metadata": {
        "colab": {
          "base_uri": "https://localhost:8080/"
        },
        "id": "O2CFf5g-vbIw",
        "outputId": "cb7db734-d0e8-4f2f-dc20-cb3bd18704db"
      },
      "outputs": [
        {
          "data": {
            "text/plain": [
              "(<tf.Tensor: shape=(), dtype=float32, numpy=98.0>,\n",
              " <tf.Tensor: shape=(), dtype=float32, numpy=1.0>)"
            ]
          },
          "execution_count": 37,
          "metadata": {},
          "output_type": "execute_result"
        }
      ],
      "source": [
        "tf.reduce_max(tensor), tf.reduce_min(tensor)"
      ]
    },
    {
      "cell_type": "code",
      "execution_count": 38,
      "metadata": {
        "colab": {
          "base_uri": "https://localhost:8080/"
        },
        "id": "CKfEQW0lvbAr",
        "outputId": "9131168d-26dd-4197-9f7f-b8f708979efe"
      },
      "outputs": [
        {
          "data": {
            "text/plain": [
              "(<tf.Tensor: shape=(5,), dtype=float32, numpy=array([298., 539., 365., 476., 559.], dtype=float32)>,\n",
              " <tf.Tensor: shape=(), dtype=float32, numpy=2237.0>)"
            ]
          },
          "execution_count": 38,
          "metadata": {},
          "output_type": "execute_result"
        }
      ],
      "source": [
        "tf.reduce_sum(tensor, axis=1), tf.reduce_sum(tensor)"
      ]
    },
    {
      "cell_type": "code",
      "execution_count": 39,
      "metadata": {
        "colab": {
          "base_uri": "https://localhost:8080/"
        },
        "id": "7O4RAuAtva9i",
        "outputId": "37b9d25a-b944-45cb-91fc-2682d46c0ef9"
      },
      "outputs": [
        {
          "data": {
            "text/plain": [
              "<tf.Tensor: shape=(), dtype=float32, numpy=44.74>"
            ]
          },
          "execution_count": 39,
          "metadata": {},
          "output_type": "execute_result"
        }
      ],
      "source": [
        "tf.reduce_mean(tensor)"
      ]
    },
    {
      "cell_type": "code",
      "execution_count": 40,
      "metadata": {
        "colab": {
          "base_uri": "https://localhost:8080/"
        },
        "id": "1Oa792dhvaxR",
        "outputId": "aa23d0f5-75e3-453b-90d4-137c6b85ac88"
      },
      "outputs": [
        {
          "data": {
            "text/plain": [
              "(<tf.Tensor: shape=(5,), dtype=float32, numpy=\n",
              " array([28.056372, 32.608124, 26.348625, 25.75733 , 30.907766],\n",
              "       dtype=float32)>, <tf.Tensor: shape=(), dtype=float32, numpy=30.565214>)"
            ]
          },
          "execution_count": 40,
          "metadata": {},
          "output_type": "execute_result"
        }
      ],
      "source": [
        "tf.math.reduce_std(tensor, axis=1), tf.math.reduce_std(tensor) ## Warning, must be tf.float type"
      ]
    },
    {
      "cell_type": "code",
      "execution_count": 41,
      "metadata": {
        "colab": {
          "base_uri": "https://localhost:8080/"
        },
        "id": "SmkKrKu4wwuH",
        "outputId": "801c8a6d-6b70-4d4c-9cf5-1d0e5f5e4bf1"
      },
      "outputs": [
        {
          "data": {
            "text/plain": [
              "(<tf.Tensor: shape=(5,), dtype=float32, numpy=\n",
              " array([ 787.16   , 1063.2899 ,  694.25   ,  663.44006,  955.29004],\n",
              "       dtype=float32)>, <tf.Tensor: shape=(), dtype=float32, numpy=934.23236>)"
            ]
          },
          "execution_count": 41,
          "metadata": {},
          "output_type": "execute_result"
        }
      ],
      "source": [
        "tf.math.reduce_variance(tensor, axis=1), tf.math.reduce_variance(tensor)"
      ]
    },
    {
      "cell_type": "code",
      "execution_count": 42,
      "metadata": {
        "colab": {
          "base_uri": "https://localhost:8080/"
        },
        "id": "PfkDX84nyJsL",
        "outputId": "5021f932-7ced-418c-bc95-a7b00f72ac8d"
      },
      "outputs": [
        {
          "data": {
            "text/plain": [
              "<tf.Tensor: shape=(10,), dtype=int64, numpy=array([ 965,  279,  215, 1005,  625,  369,  492,  142,  922,  767])>"
            ]
          },
          "execution_count": 42,
          "metadata": {},
          "output_type": "execute_result"
        }
      ],
      "source": [
        "import tensorflow_probability as tfp\n",
        "\n",
        "tensor = tf.constant( np.random.randint(0, 100, (5, 10)))\n",
        "tfp.stats.variance(tensor)"
      ]
    },
    {
      "cell_type": "markdown",
      "metadata": {
        "id": "0jqXu60i9Ms8"
      },
      "source": [
        "### Advance math function : Squaring, log, square root\n",
        "\n",
        "* `tf.square()`\n",
        "* `tf.sqrt()`\n",
        "* `tf.math.log()`"
      ]
    },
    {
      "cell_type": "code",
      "execution_count": 43,
      "metadata": {
        "colab": {
          "base_uri": "https://localhost:8080/"
        },
        "id": "jVsRL_7o9RwV",
        "outputId": "3833dbd3-ef5c-4470-f766-55a59c2d8c39"
      },
      "outputs": [
        {
          "data": {
            "text/plain": [
              "<tf.Tensor: shape=(4, 8), dtype=float32, numpy=\n",
              "array([[7., 5., 7., 7., 2., 0., 2., 3.],\n",
              "       [4., 2., 0., 4., 5., 7., 7., 0.],\n",
              "       [9., 7., 8., 6., 3., 9., 5., 2.],\n",
              "       [7., 0., 0., 8., 8., 3., 4., 6.]], dtype=float32)>"
            ]
          },
          "execution_count": 43,
          "metadata": {},
          "output_type": "execute_result"
        }
      ],
      "source": [
        "tensor = tf.constant(np.random.randint(0, 10, (4,8)), dtype= tf.float32)\n",
        "tensor"
      ]
    },
    {
      "cell_type": "code",
      "execution_count": 44,
      "metadata": {
        "colab": {
          "base_uri": "https://localhost:8080/"
        },
        "id": "ONQBj73g-cZE",
        "outputId": "1cec3fdc-095f-46f5-eac5-e61c4f0254b4"
      },
      "outputs": [
        {
          "data": {
            "text/plain": [
              "<tf.Tensor: shape=(4, 8), dtype=float32, numpy=\n",
              "array([[49., 25., 49., 49.,  4.,  0.,  4.,  9.],\n",
              "       [16.,  4.,  0., 16., 25., 49., 49.,  0.],\n",
              "       [81., 49., 64., 36.,  9., 81., 25.,  4.],\n",
              "       [49.,  0.,  0., 64., 64.,  9., 16., 36.]], dtype=float32)>"
            ]
          },
          "execution_count": 44,
          "metadata": {},
          "output_type": "execute_result"
        }
      ],
      "source": [
        "tf.square(tensor)"
      ]
    },
    {
      "cell_type": "code",
      "execution_count": 45,
      "metadata": {
        "colab": {
          "base_uri": "https://localhost:8080/"
        },
        "id": "T_kLJNZ7-cHS",
        "outputId": "b7806fec-692c-4e1a-f7ae-dc6728ed990f"
      },
      "outputs": [
        {
          "data": {
            "text/plain": [
              "<tf.Tensor: shape=(4, 8), dtype=float32, numpy=\n",
              "array([[2.6457512, 2.2360678, 2.6457512, 2.6457512, 1.4142135, 0.       ,\n",
              "        1.4142135, 1.7320508],\n",
              "       [2.       , 1.4142135, 0.       , 2.       , 2.2360678, 2.6457512,\n",
              "        2.6457512, 0.       ],\n",
              "       [3.       , 2.6457512, 2.828427 , 2.4494896, 1.7320508, 3.       ,\n",
              "        2.2360678, 1.4142135],\n",
              "       [2.6457512, 0.       , 0.       , 2.828427 , 2.828427 , 1.7320508,\n",
              "        2.       , 2.4494896]], dtype=float32)>"
            ]
          },
          "execution_count": 45,
          "metadata": {},
          "output_type": "execute_result"
        }
      ],
      "source": [
        "tf.sqrt(tensor)"
      ]
    },
    {
      "cell_type": "code",
      "execution_count": 46,
      "metadata": {
        "colab": {
          "base_uri": "https://localhost:8080/"
        },
        "id": "98d2YxTG-dcD",
        "outputId": "4c6245f1-e749-4639-8468-bffa743e74a3"
      },
      "outputs": [
        {
          "data": {
            "text/plain": [
              "<tf.Tensor: shape=(4, 8), dtype=float32, numpy=\n",
              "array([[1.9459102, 1.609438 , 1.9459102, 1.9459102, 0.6931472,      -inf,\n",
              "        0.6931472, 1.0986123],\n",
              "       [1.3862944, 0.6931472,      -inf, 1.3862944, 1.609438 , 1.9459102,\n",
              "        1.9459102,      -inf],\n",
              "       [2.1972246, 1.9459102, 2.0794415, 1.7917595, 1.0986123, 2.1972246,\n",
              "        1.609438 , 0.6931472],\n",
              "       [1.9459102,      -inf,      -inf, 2.0794415, 2.0794415, 1.0986123,\n",
              "        1.3862944, 1.7917595]], dtype=float32)>"
            ]
          },
          "execution_count": 46,
          "metadata": {},
          "output_type": "execute_result"
        }
      ],
      "source": [
        "tf.math.log(tensor)"
      ]
    },
    {
      "cell_type": "markdown",
      "metadata": {
        "id": "EFVl3uRW0nzO"
      },
      "source": [
        "## Matrix mutliplication\n",
        "\n",
        "You can either choose `tf.tensordot` or `tf.linalg.matmul` (short version : `tf.matmul` also work)<br>\n",
        "**Note** : you can also use python function `@` : `tensor_1 @ tensor_2`\n",
        "\n",
        "* [tensordot](https://www.tensorflow.org/api_docs/python/tf/tensordot)\n",
        "* [matmul](https://www.tensorflow.org/api_docs/python/tf/linalg/matmul)\n",
        "* [linalg](https://www.tensorflow.org/api_docs/python/tf/linalg)\n",
        "\n",
        "<br>\n",
        "\n",
        "**Rules for matrix multiplication :** <br>\n",
        "let (a, b, c) be no-zeros interger :<br>\n",
        "`(a, b) @ (b, c)` => `(a, c)`"
      ]
    },
    {
      "cell_type": "code",
      "execution_count": 47,
      "metadata": {
        "id": "B06EYmy01mVO"
      },
      "outputs": [],
      "source": [
        "tensor_1 = tf.constant([[0, 1, 2],\n",
        "                        [3, 4, 5]])\n",
        "tensor_2 = tf.constant([[0, 1],\n",
        "                        [2, 3],\n",
        "                        [5, 6]])"
      ]
    },
    {
      "cell_type": "code",
      "execution_count": 48,
      "metadata": {
        "colab": {
          "base_uri": "https://localhost:8080/"
        },
        "id": "aJ9FH9ml2ac1",
        "outputId": "20d4b9f7-be0f-4aef-8867-072cc4139d6a"
      },
      "outputs": [
        {
          "data": {
            "text/plain": [
              "<tf.Tensor: shape=(2, 2), dtype=int32, numpy=\n",
              "array([[12, 15],\n",
              "       [33, 45]], dtype=int32)>"
            ]
          },
          "execution_count": 48,
          "metadata": {},
          "output_type": "execute_result"
        }
      ],
      "source": [
        "tf.tensordot(tensor_1, tensor_2, axes=1)"
      ]
    },
    {
      "cell_type": "code",
      "execution_count": 49,
      "metadata": {
        "colab": {
          "base_uri": "https://localhost:8080/"
        },
        "id": "tzBwoVvT2hTy",
        "outputId": "964f351b-8dba-4243-9e3d-7b58a2c9a0ae"
      },
      "outputs": [
        {
          "data": {
            "text/plain": [
              "<tf.Tensor: shape=(2, 2), dtype=int32, numpy=\n",
              "array([[12, 15],\n",
              "       [33, 45]], dtype=int32)>"
            ]
          },
          "execution_count": 49,
          "metadata": {},
          "output_type": "execute_result"
        }
      ],
      "source": [
        "tf.matmul(tensor_1, tensor_2)"
      ]
    },
    {
      "cell_type": "code",
      "execution_count": 50,
      "metadata": {
        "colab": {
          "base_uri": "https://localhost:8080/"
        },
        "id": "jJFfsxck5j9K",
        "outputId": "507c1064-6f0b-446a-c509-80b9ad0eb431"
      },
      "outputs": [
        {
          "data": {
            "text/plain": [
              "<tf.Tensor: shape=(2, 2), dtype=int32, numpy=\n",
              "array([[12, 15],\n",
              "       [33, 45]], dtype=int32)>"
            ]
          },
          "execution_count": 50,
          "metadata": {},
          "output_type": "execute_result"
        }
      ],
      "source": [
        "tensor_1 @ tensor_2"
      ]
    },
    {
      "cell_type": "code",
      "execution_count": 51,
      "metadata": {
        "colab": {
          "base_uri": "https://localhost:8080/"
        },
        "id": "2LMrY2hL5wMJ",
        "outputId": "669755e5-7ef0-4b04-9522-1db1849ad519"
      },
      "outputs": [
        {
          "data": {
            "text/plain": [
              "<tf.Tensor: shape=(2, 2), dtype=int32, numpy=\n",
              "array([[12, 33],\n",
              "       [15, 45]], dtype=int32)>"
            ]
          },
          "execution_count": 51,
          "metadata": {},
          "output_type": "execute_result"
        }
      ],
      "source": [
        "tf.matmul(a=tensor_2, b=tensor_1, transpose_a=True, transpose_b=True)"
      ]
    },
    {
      "cell_type": "markdown",
      "metadata": {
        "id": "X1ahb87E7G4i"
      },
      "source": [
        "## Changing the datatype of a tensor"
      ]
    },
    {
      "cell_type": "code",
      "execution_count": 52,
      "metadata": {
        "colab": {
          "base_uri": "https://localhost:8080/"
        },
        "id": "zUx0xvbSrT1e",
        "outputId": "a59698f6-b8af-4d69-b8bf-08af42f067db"
      },
      "outputs": [
        {
          "data": {
            "text/plain": [
              "tf.int32"
            ]
          },
          "execution_count": 52,
          "metadata": {},
          "output_type": "execute_result"
        }
      ],
      "source": [
        "t1 = tf.constant([0,1])\n",
        "t1.dtype "
      ]
    },
    {
      "cell_type": "code",
      "execution_count": 53,
      "metadata": {
        "colab": {
          "base_uri": "https://localhost:8080/"
        },
        "id": "Sqt-HMlCsdLx",
        "outputId": "475de8ac-464b-4bae-eadd-3e168e6c2784"
      },
      "outputs": [
        {
          "data": {
            "text/plain": [
              "tf.float32"
            ]
          },
          "execution_count": 53,
          "metadata": {},
          "output_type": "execute_result"
        }
      ],
      "source": [
        "t2 = tf.constant([0.,1.])\n",
        "t2.dtype "
      ]
    },
    {
      "cell_type": "code",
      "execution_count": 54,
      "metadata": {
        "colab": {
          "base_uri": "https://localhost:8080/"
        },
        "id": "KdiWH8rtsjre",
        "outputId": "5ea88912-a141-4040-828e-e7568705dbc4"
      },
      "outputs": [
        {
          "data": {
            "text/plain": [
              "tf.float16"
            ]
          },
          "execution_count": 54,
          "metadata": {},
          "output_type": "execute_result"
        }
      ],
      "source": [
        "new_t1 = tf.cast(t1, tf.float16)\n",
        "new_t1.dtype "
      ]
    },
    {
      "cell_type": "code",
      "execution_count": 55,
      "metadata": {
        "colab": {
          "base_uri": "https://localhost:8080/"
        },
        "id": "LzHJX0v5sufh",
        "outputId": "2ceb7f46-73b6-4611-afa7-b0eb96cedefc"
      },
      "outputs": [
        {
          "data": {
            "text/plain": [
              "tf.float32"
            ]
          },
          "execution_count": 55,
          "metadata": {},
          "output_type": "execute_result"
        }
      ],
      "source": [
        "new_t2 = tf.cast(t2, tf.float32)\n",
        "new_t2.dtype "
      ]
    },
    {
      "cell_type": "markdown",
      "metadata": {
        "id": "RFQv0B8ns3QF"
      },
      "source": [
        "## Finding the positional maximum and minimum\n",
        "\n",
        "* `tf.argmax()` - find the position of the maximum element in a given tensor.\n",
        "* `tf.argmin()` - find the position of the minimum element in a given tensor."
      ]
    },
    {
      "cell_type": "code",
      "execution_count": 56,
      "metadata": {
        "colab": {
          "base_uri": "https://localhost:8080/"
        },
        "id": "u-jA_dKpxGig",
        "outputId": "4076fd59-1d08-4b67-a2ce-e52df43a4827"
      },
      "outputs": [
        {
          "data": {
            "text/plain": [
              "<tf.Tensor: shape=(4, 10), dtype=int64, numpy=\n",
              "array([[92, 50, 92, 95, 57, 39,  8, 28, 25, 66],\n",
              "       [77, 71,  8, 60, 90, 27, 41, 24, 59, 13],\n",
              "       [21, 39, 26, 71,  9, 18, 22, 35, 52, 64],\n",
              "       [54, 10, 60,  9, 30, 68, 41, 75, 47, 99]])>"
            ]
          },
          "execution_count": 56,
          "metadata": {},
          "output_type": "execute_result"
        }
      ],
      "source": [
        "tensor = tf.constant(np.random.randint(0, 100, (4,10)))\n",
        "tensor"
      ]
    },
    {
      "cell_type": "code",
      "execution_count": 57,
      "metadata": {
        "colab": {
          "base_uri": "https://localhost:8080/"
        },
        "id": "6oyS-xScxpU8",
        "outputId": "8da3e715-d519-4109-d184-be781cdcac5d"
      },
      "outputs": [
        {
          "data": {
            "text/plain": [
              "<tf.Tensor: shape=(4,), dtype=int64, numpy=array([3, 4, 3, 9])>"
            ]
          },
          "execution_count": 57,
          "metadata": {},
          "output_type": "execute_result"
        }
      ],
      "source": [
        "tf.argmax(tensor, axis=1)"
      ]
    },
    {
      "cell_type": "code",
      "execution_count": 58,
      "metadata": {
        "colab": {
          "base_uri": "https://localhost:8080/"
        },
        "id": "yIxrD06N0sBd",
        "outputId": "96a832ea-f837-459e-bf29-1210a1096652"
      },
      "outputs": [
        {
          "data": {
            "text/plain": [
              "<tf.Tensor: shape=(10,), dtype=int64, numpy=array([2, 3, 1, 3, 2, 2, 0, 1, 0, 1])>"
            ]
          },
          "execution_count": 58,
          "metadata": {},
          "output_type": "execute_result"
        }
      ],
      "source": [
        "tf.argmin(tensor, axis=0)"
      ]
    },
    {
      "cell_type": "markdown",
      "metadata": {
        "id": "znYUBbWz059-"
      },
      "source": [
        "## Squeezing a tensor (removing all single dimensions)\n",
        "If you need to remove single-dimensions from a tensor (dimensions with size 1), you can use `tf.squeeze()`.\n",
        "\n",
        "* `tf.squeeze()` - remove all dimensions of 1 from a tensor."
      ]
    },
    {
      "cell_type": "code",
      "execution_count": 59,
      "metadata": {
        "colab": {
          "base_uri": "https://localhost:8080/"
        },
        "id": "9REDAizv1X-E",
        "outputId": "d69cc98f-3c13-48f0-a66a-73031618e077"
      },
      "outputs": [
        {
          "data": {
            "text/plain": [
              "<tf.Tensor: shape=(5, 1), dtype=int64, numpy=\n",
              "array([[0],\n",
              "       [2],\n",
              "       [4],\n",
              "       [8],\n",
              "       [5]])>"
            ]
          },
          "execution_count": 59,
          "metadata": {},
          "output_type": "execute_result"
        }
      ],
      "source": [
        "tensor = tf.constant(np.random.randint(0, 10, (5, 1)))\n",
        "tensor"
      ]
    },
    {
      "cell_type": "code",
      "execution_count": 60,
      "metadata": {
        "colab": {
          "base_uri": "https://localhost:8080/"
        },
        "id": "9S7lf6uE1oSt",
        "outputId": "15024176-0bd4-49dd-e0f1-42c871132adf"
      },
      "outputs": [
        {
          "data": {
            "text/plain": [
              "<tf.Tensor: shape=(5,), dtype=int64, numpy=array([0, 2, 4, 8, 5])>"
            ]
          },
          "execution_count": 60,
          "metadata": {},
          "output_type": "execute_result"
        }
      ],
      "source": [
        "tf.squeeze(tensor)"
      ]
    },
    {
      "cell_type": "markdown",
      "metadata": {
        "id": "FwEiiK_w1ud8"
      },
      "source": [
        "## One-hot encoding\n",
        "\n",
        "If you have a tensor of indicies and would like to one-hot encode it, you can use \n",
        "[`tf.one_hot()`](https://www.tensorflow.org/api_docs/python/tf/one_hot)\n",
        ".\n",
        "\n",
        "You should also specify the depth parameter (the level which you want to one-hot encode to)."
      ]
    },
    {
      "cell_type": "code",
      "execution_count": 61,
      "metadata": {
        "colab": {
          "base_uri": "https://localhost:8080/"
        },
        "id": "tfp0d9jp33MM",
        "outputId": "7732ad81-ef45-468f-b4e8-c3714edfaf7e"
      },
      "outputs": [
        {
          "data": {
            "text/plain": [
              "<tf.Tensor: shape=(4, 4), dtype=float32, numpy=\n",
              "array([[1., 0., 0., 0.],\n",
              "       [0., 1., 0., 0.],\n",
              "       [0., 0., 1., 0.],\n",
              "       [0., 0., 0., 1.]], dtype=float32)>"
            ]
          },
          "execution_count": 61,
          "metadata": {},
          "output_type": "execute_result"
        }
      ],
      "source": [
        "simple_list = [0, 1, 2, 3]\n",
        "tf.one_hot(simple_list, 4)"
      ]
    },
    {
      "cell_type": "code",
      "execution_count": 62,
      "metadata": {
        "colab": {
          "base_uri": "https://localhost:8080/"
        },
        "id": "QqNA4yue4Epm",
        "outputId": "704c8c43-b912-4742-ef70-fd1645421e46"
      },
      "outputs": [
        {
          "data": {
            "text/plain": [
              "<tf.Tensor: shape=(5, 4), dtype=float32, numpy=\n",
              "array([[1., 0., 0., 0.],\n",
              "       [0., 1., 0., 0.],\n",
              "       [0., 0., 1., 0.],\n",
              "       [0., 0., 0., 1.],\n",
              "       [0., 0., 1., 0.]], dtype=float32)>"
            ]
          },
          "execution_count": 62,
          "metadata": {},
          "output_type": "execute_result"
        }
      ],
      "source": [
        "simple_list = [0, 1, 2, 3, 2]\n",
        "tf.one_hot(simple_list, 4)"
      ]
    },
    {
      "cell_type": "markdown",
      "metadata": {
        "id": "pHx1GppQ5fZd"
      },
      "source": [
        "## Using `@tf.function`"
      ]
    },
    {
      "cell_type": "markdown",
      "metadata": {
        "id": "ZB04XUTejqY9"
      },
      "source": [
        "In your TensorFlow adventures, you might come across Python functions which have the decorator `@tf.function`.\n",
        "\n",
        "But in short, decorators modify a function in one way or another.\n",
        "\n",
        "In the `@tf.function` decorator case, it turns a Python function into a callable TensorFlow graph. Which is a fancy way of saying, if you've written your own Python function, and you decorate it with `@tf.function`, when you export your code (to potentially run on another device), TensorFlow will attempt to convert it into a fast(er) version of itself (by making it part of a computation graph).\n",
        "\n",
        "For more on this, read the Better performnace with `tf.function` [guide](https://www.tensorflow.org/guide/function)."
      ]
    },
    {
      "cell_type": "code",
      "execution_count": 63,
      "metadata": {
        "id": "dJFpSTawkCWU"
      },
      "outputs": [],
      "source": [
        "# Create a simple function\n",
        "def function(x, y):\n",
        "  return x ** 2 + y"
      ]
    },
    {
      "cell_type": "code",
      "execution_count": 64,
      "metadata": {
        "id": "IButZzAlkK-h"
      },
      "outputs": [],
      "source": [
        "# Create the same function and decorate it with tf.function\n",
        "@tf.function\n",
        "def tf_function(x, y):\n",
        "  return x ** 2 + y"
      ]
    },
    {
      "cell_type": "code",
      "execution_count": 65,
      "metadata": {
        "colab": {
          "base_uri": "https://localhost:8080/"
        },
        "id": "KSWc7oA3kOq8",
        "outputId": "4feeba2e-98d1-4203-b8d1-092009f49b9b"
      },
      "outputs": [
        {
          "data": {
            "text/plain": [
              "<tf.Tensor: shape=(10,), dtype=int64, numpy=array([ 10,  12,  16,  22,  30,  40,  52,  66,  82, 100])>"
            ]
          },
          "execution_count": 65,
          "metadata": {},
          "output_type": "execute_result"
        }
      ],
      "source": [
        "x = tf.constant(np.arange(0, 10))\n",
        "y = tf.constant(np.arange(10, 20))\n",
        "\n",
        "function(x, y)\n",
        "tf_function(x, y)"
      ]
    },
    {
      "cell_type": "markdown",
      "metadata": {
        "id": "mQ9_4dnMkUmr"
      },
      "source": [
        "## Finding access to GPUs"
      ]
    },
    {
      "cell_type": "code",
      "execution_count": 66,
      "metadata": {
        "colab": {
          "base_uri": "https://localhost:8080/"
        },
        "id": "AeDAzfctkVRS",
        "outputId": "71b4f6d9-cfa6-4614-8525-88d21ef03bf9"
      },
      "outputs": [
        {
          "name": "stdout",
          "output_type": "stream",
          "text": [
            "[PhysicalDevice(name='/physical_device:GPU:0', device_type='GPU')]\n"
          ]
        }
      ],
      "source": [
        "print(tf.config.list_physical_devices('GPU'))"
      ]
    },
    {
      "cell_type": "code",
      "execution_count": 67,
      "metadata": {
        "colab": {
          "base_uri": "https://localhost:8080/"
        },
        "id": "y45JNSYckX67",
        "outputId": "879c66a9-babd-4a96-e4f0-3c950cd3e1dc"
      },
      "outputs": [
        {
          "data": {
            "text/plain": [
              "[PhysicalDevice(name='/physical_device:GPU:0', device_type='GPU')]"
            ]
          },
          "execution_count": 67,
          "metadata": {},
          "output_type": "execute_result"
        }
      ],
      "source": [
        "tf.config.list_physical_devices('GPU')"
      ]
    },
    {
      "cell_type": "code",
      "execution_count": 67,
      "metadata": {
        "id": "_gxefUHRlCHs"
      },
      "outputs": [],
      "source": []
    }
  ],
  "metadata": {
    "accelerator": "GPU",
    "colab": {
      "provenance": [],
      "toc_visible": true
    },
    "kernelspec": {
      "display_name": "Python 3",
      "name": "python3"
    },
    "language_info": {
      "name": "python"
    }
  },
  "nbformat": 4,
  "nbformat_minor": 0
}
