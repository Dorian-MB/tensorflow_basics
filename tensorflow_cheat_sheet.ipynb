{
  "nbformat": 4,
  "nbformat_minor": 0,
  "metadata": {
    "colab": {
      "provenance": []
    },
    "kernelspec": {
      "name": "python3",
      "display_name": "Python 3"
    },
    "language_info": {
      "name": "python"
    },
    "accelerator": "GPU",
    "gpuClass": "standard"
  },
  "cells": [
    {
      "cell_type": "markdown",
      "source": [
        "#00. usefull tool and standards import  "
      ],
      "metadata": {
        "id": "KIIetM3EfEYz"
      }
    },
    {
      "cell_type": "code",
      "execution_count": null,
      "metadata": {
        "id": "J30fDKq9cAsj"
      },
      "outputs": [],
      "source": [
        "from pathlib import Path \n",
        "\n",
        "import numpy as np\n",
        "import matplotlib.pyplot as plt\n",
        "import pandas as pd\n",
        "import seaborn as sns\n",
        "\n",
        "import tensorflow as tf\n",
        "import tensorflow_hub as hub\n",
        "\n",
        "import zipfile"
      ]
    },
    {
      "cell_type": "code",
      "source": [
        "def unzip(path):\n",
        "    zip_ref = zipfile.ZipFile(path, \"r\")\n",
        "    zip_ref.extractall()\n",
        "    zip_ref.close()"
      ],
      "metadata": {
        "id": "-XbcHqA06q47"
      },
      "execution_count": null,
      "outputs": []
    },
    {
      "cell_type": "markdown",
      "source": [
        "# 01. Tensorflow fundamentals\n",
        "see [here](https://colab.research.google.com/drive/11IlMH-egdaznvX1SJe5MQN0HpD0WLMz8) all the fundamentals"
      ],
      "metadata": {
        "id": "q5YJc2w3dPJD"
      }
    },
    {
      "cell_type": "code",
      "source": [
        "tensor = tf.constant([[1,4,3],\n",
        "                      [4,5,1]])\n",
        "tensor"
      ],
      "metadata": {
        "colab": {
          "base_uri": "https://localhost:8080/"
        },
        "id": "aeipT-K6choX",
        "outputId": "57a2a99f-9621-4eb3-943f-f1c80359c5f4"
      },
      "execution_count": null,
      "outputs": [
        {
          "output_type": "execute_result",
          "data": {
            "text/plain": [
              "<tf.Tensor: shape=(2, 3), dtype=int32, numpy=\n",
              "array([[1, 4, 3],\n",
              "       [4, 5, 1]], dtype=int32)>"
            ]
          },
          "metadata": {},
          "execution_count": 3
        }
      ]
    },
    {
      "cell_type": "code",
      "source": [
        "tensor = tf.reshape(tensor, (6,1))\n",
        "tensor"
      ],
      "metadata": {
        "colab": {
          "base_uri": "https://localhost:8080/"
        },
        "id": "bbetI7YTd9YX",
        "outputId": "7717ed31-574e-43b4-83cd-94ae33b77f6e"
      },
      "execution_count": null,
      "outputs": [
        {
          "output_type": "execute_result",
          "data": {
            "text/plain": [
              "<tf.Tensor: shape=(6, 1), dtype=int32, numpy=\n",
              "array([[1],\n",
              "       [4],\n",
              "       [3],\n",
              "       [4],\n",
              "       [5],\n",
              "       [1]], dtype=int32)>"
            ]
          },
          "metadata": {},
          "execution_count": 4
        }
      ]
    },
    {
      "cell_type": "code",
      "source": [
        "tensor = tf.squeeze(tensor)\n",
        "tensor"
      ],
      "metadata": {
        "colab": {
          "base_uri": "https://localhost:8080/"
        },
        "id": "wwVQiEbWdiao",
        "outputId": "c8fb1144-14ed-4c01-8421-271b0411e023"
      },
      "execution_count": null,
      "outputs": [
        {
          "output_type": "execute_result",
          "data": {
            "text/plain": [
              "<tf.Tensor: shape=(6,), dtype=int32, numpy=array([1, 4, 3, 4, 5, 1], dtype=int32)>"
            ]
          },
          "metadata": {},
          "execution_count": 5
        }
      ]
    },
    {
      "cell_type": "code",
      "source": [
        "max = tf.reduce_max(tensor)+1\n",
        "tf.one_hot(tensor, max)"
      ],
      "metadata": {
        "colab": {
          "base_uri": "https://localhost:8080/"
        },
        "id": "jaa0UsSWdzVy",
        "outputId": "ea9124eb-7706-4944-e439-c708fba04282"
      },
      "execution_count": null,
      "outputs": [
        {
          "output_type": "execute_result",
          "data": {
            "text/plain": [
              "<tf.Tensor: shape=(6, 6), dtype=float32, numpy=\n",
              "array([[0., 1., 0., 0., 0., 0.],\n",
              "       [0., 0., 0., 0., 1., 0.],\n",
              "       [0., 0., 0., 1., 0., 0.],\n",
              "       [0., 0., 0., 0., 1., 0.],\n",
              "       [0., 0., 0., 0., 0., 1.],\n",
              "       [0., 1., 0., 0., 0., 0.]], dtype=float32)>"
            ]
          },
          "metadata": {},
          "execution_count": 6
        }
      ]
    },
    {
      "cell_type": "code",
      "source": [
        "tensor = tf.constant([[1,4,3],\n",
        "                      [4,5,1]], dtype=tf.int32)\n",
        "\n",
        "tensor = tf.cast(tensor, dtype=tf.float32)\n",
        "tensor"
      ],
      "metadata": {
        "id": "vGEmmhIbZs2F",
        "colab": {
          "base_uri": "https://localhost:8080/"
        },
        "outputId": "022d1f91-17a2-4837-920e-df2dc5d975ac"
      },
      "execution_count": null,
      "outputs": [
        {
          "output_type": "execute_result",
          "data": {
            "text/plain": [
              "<tf.Tensor: shape=(2, 3), dtype=float32, numpy=\n",
              "array([[1., 4., 3.],\n",
              "       [4., 5., 1.]], dtype=float32)>"
            ]
          },
          "metadata": {},
          "execution_count": 7
        }
      ]
    },
    {
      "cell_type": "markdown",
      "source": [
        "## Dataset `tf.data.Dataset` "
      ],
      "metadata": {
        "id": "v4_pa27JBQlI"
      }
    },
    {
      "cell_type": "code",
      "source": [
        "dataset = tf.data.Dataset.from_tensor_slices([8, 3, 0, 8, 2, 1])\n",
        "dataset"
      ],
      "metadata": {
        "id": "RCKKS2IGBV4h",
        "colab": {
          "base_uri": "https://localhost:8080/"
        },
        "outputId": "c805b71b-d064-4464-e351-bc7a7f141a72"
      },
      "execution_count": null,
      "outputs": [
        {
          "output_type": "execute_result",
          "data": {
            "text/plain": [
              "<TensorSliceDataset element_spec=TensorSpec(shape=(), dtype=tf.int32, name=None)>"
            ]
          },
          "metadata": {},
          "execution_count": 8
        }
      ]
    },
    {
      "cell_type": "code",
      "source": [
        "print(\"for el in dataset :\")\n",
        "for el in dataset:\n",
        "    print(el.numpy())\n",
        "\n",
        "print(\"for el in dataset.take(2) :\")\n",
        "for el in dataset.take(2):\n",
        "    print(el.numpy())"
      ],
      "metadata": {
        "id": "2mIj3R75B97i",
        "colab": {
          "base_uri": "https://localhost:8080/"
        },
        "outputId": "54ee4d13-bc53-4141-b2ed-2b4503c72545"
      },
      "execution_count": null,
      "outputs": [
        {
          "output_type": "stream",
          "name": "stdout",
          "text": [
            "for el in dataset :\n",
            "8\n",
            "3\n",
            "0\n",
            "8\n",
            "2\n",
            "1\n",
            "for el in dataset.take(2) :\n",
            "8\n",
            "3\n"
          ]
        }
      ]
    },
    {
      "cell_type": "code",
      "source": [
        "dataset = dataset.batch(2) #.prefetch(tf.data.AUTOTUNE)\n",
        "dataset"
      ],
      "metadata": {
        "id": "EF8NG--VCBUV",
        "colab": {
          "base_uri": "https://localhost:8080/"
        },
        "outputId": "a30a9955-cc88-4f7a-fa15-8cdb64f59f28"
      },
      "execution_count": null,
      "outputs": [
        {
          "output_type": "execute_result",
          "data": {
            "text/plain": [
              "<BatchDataset element_spec=TensorSpec(shape=(None,), dtype=tf.int32, name=None)>"
            ]
          },
          "metadata": {},
          "execution_count": 10
        }
      ]
    },
    {
      "cell_type": "code",
      "source": [
        "print(\"for el in dataset :\")\n",
        "for el in dataset:\n",
        "    print(el.numpy())\n",
        "\n",
        "print(\"for el in dataset.take(2) :\")\n",
        "for el in dataset.take(2):\n",
        "    print(el.numpy())"
      ],
      "metadata": {
        "id": "gHcTFsZ2CXlW",
        "colab": {
          "base_uri": "https://localhost:8080/"
        },
        "outputId": "b6f1639e-b772-4692-9514-2e77347524a5"
      },
      "execution_count": null,
      "outputs": [
        {
          "output_type": "stream",
          "name": "stdout",
          "text": [
            "for el in dataset :\n",
            "[8 3]\n",
            "[0 8]\n",
            "[2 1]\n",
            "for el in dataset.take(2) :\n",
            "[8 3]\n",
            "[0 8]\n"
          ]
        }
      ]
    },
    {
      "cell_type": "markdown",
      "source": [
        "# 02. Neural Network Regression with TensorFlow"
      ],
      "metadata": {
        "id": "aRlhP5bEfBmY"
      }
    },
    {
      "cell_type": "code",
      "source": [
        "def plot_reg_pred(model, X_train, y_train, X_test, y_test):\n",
        "    y_test_pred = model.predict(X_test)\n",
        "    y_train_pred = model.predict(X_train)\n",
        "\n",
        "    train_loss = model.evaluate(X_train, y_train)[0]\n",
        "    test_loss = model.evaluate(X_test, y_test)[0]\n",
        "\n",
        "    plt.scatter(X_test, y_test, c=\"green\", label=\"test set\")\n",
        "    plt.scatter(X_train, y_train, c=\"blue\", label=\"train set\")\n",
        "    plt.scatter(X_train, y_train_pred, c=\"orange\", label=f\"train pred, loss : {train_loss:.2f}\")\n",
        "    plt.scatter(X_test, y_test_pred, c=\"red\", label=f\"test pred, loss : {test_loss:.2f}\")\n",
        "    plt.legend()"
      ],
      "metadata": {
        "id": "hjwCcpQGzW6w"
      },
      "execution_count": null,
      "outputs": []
    },
    {
      "cell_type": "code",
      "source": [
        "from sklearn.model_selection import train_test_split\n",
        "\n",
        "X = np.linspace(-15, 15, 100)\n",
        "y = X**2\n",
        "\n",
        "X_train, X_test, y_train, y_test = train_test_split(X, y, test_size=0.3)\n",
        "\n",
        "plt.figure(figsize=(6,6))\n",
        "plt.scatter(X_train,y_train, c=\"blue\", label=\"train data\")\n",
        "plt.scatter(X_test,y_test, c=\"green\", label=\"test data\")\n",
        "plt.legend();"
      ],
      "metadata": {
        "colab": {
          "base_uri": "https://localhost:8080/",
          "height": 374
        },
        "id": "9Z0dgqYMlbE3",
        "outputId": "c41dc0c8-c0c2-4d20-a30e-dee40ef4a913"
      },
      "execution_count": null,
      "outputs": [
        {
          "output_type": "display_data",
          "data": {
            "text/plain": [
              "<Figure size 432x432 with 1 Axes>"
            ],
            "image/png": "[encoded data removed]"
          },
          "metadata": {
            "needs_background": "light"
          }
        }
      ]
    },
    {
      "cell_type": "markdown",
      "source": [
        "> **Reminder :** <br>\n",
        "When training machine learning models, the input data is often read from disk and processed in batches. The prefetch() method allows you to specify how many batches to prefetch ahead of the current batch, so that the next batch is ready to be processed as soon as the current batch is finished (call : **prefetching batches**).\n",
        "<br>\n",
        "The prefetch() method can be used with TensorFlow's Dataset class, and the number of elements to prefetch can be specified as an argument to the method. For example:\n",
        "<br>\n",
        "```\n",
        "dataset = ...  # create a TensorFlow dataset\n",
        "dataset = dataset.prefetch(buffer_size=10)\n",
        "```\n",
        "In this example, buffer_size=10 specifies that TensorFlow should prefetch 10 batches of data ahead of the current batch."
      ],
      "metadata": {
        "id": "sNDd6AIBDy8k"
      }
    },
    {
      "cell_type": "code",
      "source": [
        "train_data = tf.data.Dataset.from_tensor_slices((X_train, y_train))\n",
        "test_data = tf.data.Dataset.from_tensor_slices((X_test, y_test))\n",
        "\n",
        "train_data = train_data.batch(32).prefetch(tf.data.AUTOTUNE)\n",
        "test_data = test_data.batch(32).prefetch(tf.data.AUTOTUNE)"
      ],
      "metadata": {
        "id": "xNoPN50XDLCb"
      },
      "execution_count": null,
      "outputs": []
    },
    {
      "cell_type": "code",
      "source": [
        "model_reg = tf.keras.Sequential([\n",
        "    tf.keras.Input(shape=(1,)),\n",
        "    tf.keras.layers.Dense(64, activation=\"linear\"),\n",
        "    tf.keras.layers.Dense(64, activation=\"relu\"),\n",
        "    tf.keras.layers.Dense(64, activation=\"relu\"),\n",
        "    tf.keras.layers.Dense(64, activation=\"relu\"),\n",
        "    tf.keras.layers.Dense(64, activation=\"relu\"),\n",
        "    tf.keras.layers.Dense(1, activation=\"linear\")\n",
        "])\n",
        "\n",
        "model_reg.compile(loss=\"mse\",\n",
        "                  optimizer=\"adam\",\n",
        "                  metrics=[\"mae\", tf.keras.metrics.RootMeanSquaredError()])\n",
        "\n",
        "model_reg.fit(train_data, epochs=200, verbose=False) # model.fit(X_train, y_train, epochs=200) also work but less efficient\n",
        "\n",
        "plt.figure(figsize=(6,6))\n",
        "plot_reg_pred(model_reg, X_train, y_train, X_test, y_test)"
      ],
      "metadata": {
        "colab": {
          "base_uri": "https://localhost:8080/",
          "height": 443
        },
        "id": "YnRVDVMrmtm8",
        "outputId": "310326ef-27a9-4fe3-85b5-2d5171c04a61"
      },
      "execution_count": null,
      "outputs": [
        {
          "output_type": "stream",
          "name": "stdout",
          "text": [
            "1/1 [==============================] - 0s 408ms/step\n",
            "3/3 [==============================] - 0s 8ms/step\n",
            "3/3 [==============================] - 0s 13ms/step - loss: 17.4308 - mae: 2.6912 - root_mean_squared_error: 4.1750\n",
            "1/1 [==============================] - 0s 123ms/step - loss: 34.2537 - mae: 4.2881 - root_mean_squared_error: 5.8527\n"
          ]
        },
        {
          "output_type": "display_data",
          "data": {
            "text/plain": [
              "<Figure size 432x432 with 1 Axes>"
            ],
            "image/png": "[encoded data removed]"
          },
          "metadata": {
            "needs_background": "light"
          }
        }
      ]
    },
    {
      "cell_type": "markdown",
      "source": [
        "# 03. Neural network classification with TensorFlow"
      ],
      "metadata": {
        "id": "-oUKojkApG8_"
      }
    },
    {
      "cell_type": "markdown",
      "source": [
        "## 2 classes"
      ],
      "metadata": {
        "id": "vqYNACt4rfq3"
      }
    },
    {
      "cell_type": "code",
      "source": [
        "def plot_decision_boundary(model, X, y, subdiv=100, figsize=None):\n",
        "    min_x1, max_x1 = np.min(X[:,0]), np.max(X[:,0])\n",
        "    min_x2, max_x2 = np.min(X[:,1]), np.max(X[:,1])\n",
        "    x1 = np.linspace(min_x1, max_x1, subdiv)\n",
        "    x2 = np.linspace(min_x2, max_x2, subdiv)\n",
        "\n",
        "    xx, yy = np.meshgrid(x1, x2)\n",
        "    all_combinaison = np.c_[xx.ravel(), yy.ravel()]\n",
        "    \n",
        "    y_pred = model.predict(all_combinaison)\n",
        "\n",
        "    # Check for multi-class\n",
        "    if len(y_pred[0]) > 1:\n",
        "        # keep the hightest predict value ie keep the class predicted\n",
        "        y_pred = np.argmax(y_pred, axis=1)\n",
        "    else:\n",
        "        # if pred : 0.4->0\n",
        "        # if pred : 0.6->1\n",
        "        # ie keep the class predicted\n",
        "        y_pred = np.round(y_pred) \n",
        "\n",
        "    # reshape as a grid\n",
        "    y_pred_grid = y_pred.reshape(xx.shape) # yy same shape\n",
        "\n",
        "    # Plot the decision boundary\n",
        "    if figsize is not None :\n",
        "        plt.figure(figsize=figsize)\n",
        "    plt.contourf(xx, yy, y_pred_grid, alpha=0.7, cmap=plt.cm.RdYlBu)\n",
        "    plt.scatter(X[:, 0], X[:, 1], c=y, s=40, cmap=plt.cm.RdYlBu)\n",
        "    plt.xlim(xx.min(), xx.max())\n",
        "    plt.ylim(yy.min(), yy.max())\n",
        "    plt.axis(False)"
      ],
      "metadata": {
        "id": "jIxgw6WLrpaI"
      },
      "execution_count": null,
      "outputs": []
    },
    {
      "cell_type": "code",
      "source": [
        "from sklearn.datasets import make_circles\n",
        "\n",
        "# Make 1000 examples\n",
        "n_samples = 1000\n",
        "\n",
        "# Create circles\n",
        "X, y = make_circles(n_samples,\n",
        "                    noise=0.03,\n",
        "                    random_state=0)\n",
        "\n",
        "plt.figure(figsize=(6,6))\n",
        "plt.scatter(X[:,0], X[:,1], c=y)"
      ],
      "metadata": {
        "colab": {
          "base_uri": "https://localhost:8080/",
          "height": 391
        },
        "id": "KKcrssggnJAA",
        "outputId": "071d07bd-1e7c-4a17-c98a-81c730a32f26"
      },
      "execution_count": null,
      "outputs": [
        {
          "output_type": "execute_result",
          "data": {
            "text/plain": [
              "<matplotlib.collections.PathCollection at 0x7f4d48d70340>"
            ]
          },
          "metadata": {},
          "execution_count": 17
        },
        {
          "output_type": "display_data",
          "data": {
            "text/plain": [
              "<Figure size 432x432 with 1 Axes>"
            ],
            "image/png": "[encoded data removed]"
          },
          "metadata": {
            "needs_background": "light"
          }
        }
      ]
    },
    {
      "cell_type": "code",
      "source": [
        "# Creating model\n",
        "model_classification = tf.keras.Sequential([\n",
        "    tf.keras.layers.Dense(8, activation=\"relu\", input_shape=(2,)),\n",
        "    tf.keras.layers.Dense(8, activation=\"relu\"),\n",
        "    tf.keras.layers.Dense(1, activation=\"sigmoid\")\n",
        "])\n",
        "\n",
        "model_classification.compile(loss=\"binary_crossentropy\",\n",
        "                             optimizer=\"adam\",\n",
        "                             metrics=[\"accuracy\"])\n",
        "\n",
        "# Dataset\n",
        "X_train, X_test, y_train, y_test = train_test_split(X, y, test_size=0.2)\n",
        "\n",
        "train_data = tf.data.Dataset.from_tensor_slices((X_train, y_train))\n",
        "test_data = tf.data.Dataset.from_tensor_slices((X_test, y_test))\n",
        "\n",
        "train_data = train_data.batch(32).prefetch(tf.data.AUTOTUNE)\n",
        "test_data = test_data.batch(32).prefetch(tf.data.AUTOTUNE)\n",
        "\n",
        "# fitting model\n",
        "model_classification.fit(train_data, epochs=100, verbose=False)\n",
        "model_classification.evaluate(test_data)"
      ],
      "metadata": {
        "colab": {
          "base_uri": "https://localhost:8080/"
        },
        "id": "46ROpVixpPHV",
        "outputId": "cb239a09-41f6-459a-c7ed-b9e8f31cfe2c"
      },
      "execution_count": null,
      "outputs": [
        {
          "output_type": "stream",
          "name": "stdout",
          "text": [
            "7/7 [==============================] - 0s 5ms/step - loss: 0.0638 - accuracy: 1.0000\n"
          ]
        },
        {
          "output_type": "execute_result",
          "data": {
            "text/plain": [
              "[0.06378395110368729, 1.0]"
            ]
          },
          "metadata": {},
          "execution_count": 18
        }
      ]
    },
    {
      "cell_type": "code",
      "source": [
        "plt.figure(figsize=(6,6))\n",
        "plot_decision_boundary(model_classification, X_train, y_train)"
      ],
      "metadata": {
        "colab": {
          "base_uri": "https://localhost:8080/",
          "height": 374
        },
        "id": "X9a1dIWfqD7k",
        "outputId": "7d2f12e3-87dd-4380-a9f6-e6b718bf9d91"
      },
      "execution_count": null,
      "outputs": [
        {
          "output_type": "stream",
          "name": "stdout",
          "text": [
            "313/313 [==============================] - 1s 3ms/step\n"
          ]
        },
        {
          "output_type": "display_data",
          "data": {
            "text/plain": [
              "<Figure size 432x432 with 1 Axes>"
            ],
            "image/png": "[encoded data removed]"
          },
          "metadata": {
            "needs_background": "light"
          }
        }
      ]
    },
    {
      "cell_type": "markdown",
      "source": [
        "## Multi classes"
      ],
      "metadata": {
        "id": "zETMITeurisf"
      }
    },
    {
      "cell_type": "code",
      "source": [
        "def plot_confusion_matrix_multiclass(cf_matrix, class_names, cmap=\"Accent_r\", cbar=False, figsize=None):\n",
        "\n",
        "    n = len(cf_matrix)\n",
        "    size = np.sum(cf_matrix)\n",
        "\n",
        "    group_counts = [f\"{value:.0f}\" for value in cf_matrix.flatten()]\n",
        "    group_percentages = [f\"{value:.2%}\" for value in (cf_matrix/np.sum(cf_matrix,axis=1)).flatten()]\n",
        "\n",
        "    labels = [f\"{v1}\\n{v2}\" for v1, v2 in zip(group_counts, group_percentages)]\n",
        "    labels = np.array(labels).reshape(n,n)\n",
        "\n",
        "    if figsize is not None : \n",
        "        plt.figure(figsize=figsize)\n",
        "    ax = sns.heatmap(cf_matrix, annot=labels, cmap=cmap, cbar=cbar, fmt=\"\")\n",
        "\n",
        "    ax.set_title(f'Confusion Matrix, size:{size} \\n', weight=\"bold\", fontsize=\"xx-large\");\n",
        "    ax.set_xlabel('\\n Predicted Values', weight=\"bold\", fontsize=\"x-large\")\n",
        "    ax.set_ylabel('True Values ', weight=\"bold\", fontsize=\"x-large\");\n",
        "\n",
        "    ax.xaxis.set_ticklabels(class_names, weight=\"bold\", rotation=45)\n",
        "    ax.yaxis.set_ticklabels(class_names, weight=\"bold\", rotation=0)\n",
        "\n",
        "    plt.show()"
      ],
      "metadata": {
        "id": "nuwuxKPcqU94"
      },
      "execution_count": null,
      "outputs": []
    },
    {
      "cell_type": "code",
      "source": [
        "from tensorflow.keras.datasets import fashion_mnist\n",
        "\n",
        "(X_train, y_train), (X_test, y_test) = fashion_mnist.load_data()\n",
        "\n",
        "\n",
        "y_train = tf.one_hot(y_train, depth=10)\n",
        "y_test = tf.one_hot(y_test, depth=10)\n",
        "\n",
        "X_train.shape, X_test.shape, y_train.shape, y_test.shape"
      ],
      "metadata": {
        "colab": {
          "base_uri": "https://localhost:8080/"
        },
        "id": "vYE6qT1wrkUb",
        "outputId": "3fe2cfe5-2da8-40ab-c7ed-128c64d5d85e"
      },
      "execution_count": null,
      "outputs": [
        {
          "output_type": "stream",
          "name": "stdout",
          "text": [
            "Downloading data from https://storage.googleapis.com/tensorflow/tf-keras-datasets/train-labels-idx1-ubyte.gz\n",
            "29515/29515 [==============================] - 0s 0us/step\n",
            "Downloading data from https://storage.googleapis.com/tensorflow/tf-keras-datasets/train-images-idx3-ubyte.gz\n",
            "26421880/26421880 [==============================] - 0s 0us/step\n",
            "Downloading data from https://storage.googleapis.com/tensorflow/tf-keras-datasets/t10k-labels-idx1-ubyte.gz\n",
            "5148/5148 [==============================] - 0s 0us/step\n",
            "Downloading data from https://storage.googleapis.com/tensorflow/tf-keras-datasets/t10k-images-idx3-ubyte.gz\n",
            "4422102/4422102 [==============================] - 0s 0us/step\n"
          ]
        },
        {
          "output_type": "execute_result",
          "data": {
            "text/plain": [
              "((60000, 28, 28),\n",
              " (10000, 28, 28),\n",
              " TensorShape([60000, 10]),\n",
              " TensorShape([10000, 10]))"
            ]
          },
          "metadata": {},
          "execution_count": 21
        }
      ]
    },
    {
      "cell_type": "code",
      "source": [
        "train_data = tf.data.Dataset.from_tensor_slices((X_train, y_train))\n",
        "test_data = tf.data.Dataset.from_tensor_slices((X_test, y_test))\n",
        "\n",
        "train_data = train_data.batch(100).prefetch(tf.data.AUTOTUNE)\n",
        "test_data = test_data.batch(100).prefetch(tf.data.AUTOTUNE)"
      ],
      "metadata": {
        "id": "PbCxuEOmEa4n"
      },
      "execution_count": null,
      "outputs": []
    },
    {
      "cell_type": "code",
      "source": [
        "plt.imshow(X_train[0], cmap=plt.cm.binary)"
      ],
      "metadata": {
        "colab": {
          "base_uri": "https://localhost:8080/",
          "height": 282
        },
        "id": "9BWCjgRkrwVM",
        "outputId": "54ad7396-1671-4d4d-e20d-09e4fd47c8c5"
      },
      "execution_count": null,
      "outputs": [
        {
          "output_type": "execute_result",
          "data": {
            "text/plain": [
              "<matplotlib.image.AxesImage at 0x7f4d48800d00>"
            ]
          },
          "metadata": {},
          "execution_count": 23
        },
        {
          "output_type": "display_data",
          "data": {
            "text/plain": [
              "<Figure size 432x288 with 1 Axes>"
            ],
            "image/png": "[encoded data removed]"
          },
          "metadata": {
            "needs_background": "light"
          }
        }
      ]
    },
    {
      "cell_type": "code",
      "source": [
        "tf.random.set_seed(0)\n",
        "\n",
        "model_multi_class = tf.keras.Sequential([\n",
        "                tf.keras.layers.Flatten(input_shape=(28,28)),\n",
        "                tf.keras.layers.Dense(32, activation=\"relu\"),\n",
        "                tf.keras.layers.Dense(32, activation=\"relu\"),\n",
        "                tf.keras.layers.Dense(10, activation=\"softmax\")\n",
        "            ])\n",
        "\n",
        "model_multi_class.compile(loss=tf.keras.losses.CategoricalCrossentropy(),\n",
        "                          optimizer=\"adam\",\n",
        "                          metrics=[\"accuracy\"])\n",
        "\n",
        "model_multi_class.fit(train_data, epochs=10, verbose=True)\n",
        "model_multi_class.evaluate(test_data)"
      ],
      "metadata": {
        "colab": {
          "base_uri": "https://localhost:8080/"
        },
        "id": "3W8Src_er2ou",
        "outputId": "6fa151a1-ee0e-467c-98dc-3b6df96f8ea1"
      },
      "execution_count": null,
      "outputs": [
        {
          "output_type": "stream",
          "name": "stdout",
          "text": [
            "Epoch 1/10\n",
            "600/600 [==============================] - 3s 3ms/step - loss: 2.7437 - accuracy: 0.5012\n",
            "Epoch 2/10\n",
            "600/600 [==============================] - 3s 5ms/step - loss: 0.9959 - accuracy: 0.6558\n",
            "Epoch 3/10\n",
            "600/600 [==============================] - 2s 3ms/step - loss: 0.8268 - accuracy: 0.6975\n",
            "Epoch 4/10\n",
            "600/600 [==============================] - 2s 3ms/step - loss: 0.7376 - accuracy: 0.7153\n",
            "Epoch 5/10\n",
            "600/600 [==============================] - 2s 3ms/step - loss: 0.6924 - accuracy: 0.7261\n",
            "Epoch 6/10\n",
            "600/600 [==============================] - 3s 4ms/step - loss: 0.6587 - accuracy: 0.7357\n",
            "Epoch 7/10\n",
            "600/600 [==============================] - 2s 3ms/step - loss: 0.6206 - accuracy: 0.7549\n",
            "Epoch 8/10\n",
            "600/600 [==============================] - 2s 3ms/step - loss: 0.5693 - accuracy: 0.7795\n",
            "Epoch 9/10\n",
            "600/600 [==============================] - 2s 3ms/step - loss: 0.5380 - accuracy: 0.7919\n",
            "Epoch 10/10\n",
            "600/600 [==============================] - 2s 3ms/step - loss: 0.5220 - accuracy: 0.7979\n",
            "100/100 [==============================] - 1s 4ms/step - loss: 0.5906 - accuracy: 0.7864\n"
          ]
        },
        {
          "output_type": "execute_result",
          "data": {
            "text/plain": [
              "[0.5906198024749756, 0.7864000201225281]"
            ]
          },
          "metadata": {},
          "execution_count": 24
        }
      ]
    },
    {
      "cell_type": "markdown",
      "source": [
        "# 04. Convolutional_neural_networks in tensorflow"
      ],
      "metadata": {
        "id": "xBoTH9LC2BVw"
      }
    },
    {
      "cell_type": "code",
      "source": [
        "tf.random.set_seed(0)\n",
        "\n",
        "model_cnn = tf.keras.models.Sequential([\n",
        "    tf.keras.layers.Rescaling(scale=1./255, input_shape=(28, 28, 1)),\n",
        "    # first layer specifies input shape (height, width, colour channels)\n",
        "\n",
        "    tf.keras.layers.Conv2D(filters=10, # Integer, the dimensionality of the output space (i.e. the number of output filters in the convolution)\n",
        "                            kernel_size=3, # can also be (3, 3)\n",
        "                            activation=\"relu\"), \n",
        "    tf.keras.layers.Conv2D(10, 3, activation=\"relu\"),\n",
        "    tf.keras.layers.MaxPool2D(pool_size=2, # pool_size can also be (2, 2)\n",
        "                            padding=\"valid\"), # padding can also be 'same'\n",
        "\n",
        "    tf.keras.layers.Conv2D(10, 3, activation=\"relu\"),\n",
        "    tf.keras.layers.Conv2D(10, 3, activation=\"relu\"), \n",
        "    tf.keras.layers.MaxPool2D(2),\n",
        "\n",
        "    tf.keras.layers.Flatten(),\n",
        "    tf.keras.layers.Dense(10, activation=\"softmax\") \n",
        "])\n",
        "\n",
        "model_cnn.compile(loss=\"categorical_crossentropy\",\n",
        "                  optimizer=tf.keras.optimizers.Adam(),\n",
        "                  metrics=[\"accuracy\"])\n",
        "\n",
        "model_cnn.fit(train_data, epochs=5, verbose=True)\n",
        "model_cnn.evaluate(test_data)"
      ],
      "metadata": {
        "colab": {
          "base_uri": "https://localhost:8080/"
        },
        "id": "i3GID_GazzLP",
        "outputId": "1428caf0-1a74-4e2b-a44b-2643577596e4"
      },
      "execution_count": null,
      "outputs": [
        {
          "output_type": "stream",
          "name": "stdout",
          "text": [
            "Epoch 1/5\n",
            "600/600 [==============================] - 10s 5ms/step - loss: 0.7537 - accuracy: 0.7246\n",
            "Epoch 2/5\n",
            "600/600 [==============================] - 3s 6ms/step - loss: 0.4811 - accuracy: 0.8223\n",
            "Epoch 3/5\n",
            "600/600 [==============================] - 3s 5ms/step - loss: 0.4279 - accuracy: 0.8438\n",
            "Epoch 4/5\n",
            "600/600 [==============================] - 3s 5ms/step - loss: 0.3918 - accuracy: 0.8577\n",
            "Epoch 5/5\n",
            "600/600 [==============================] - 3s 5ms/step - loss: 0.3660 - accuracy: 0.8680\n",
            "100/100 [==============================] - 0s 3ms/step - loss: 0.4042 - accuracy: 0.8521\n"
          ]
        },
        {
          "output_type": "execute_result",
          "data": {
            "text/plain": [
              "[0.4042493402957916, 0.8521000146865845]"
            ]
          },
          "metadata": {},
          "execution_count": 25
        }
      ]
    },
    {
      "cell_type": "markdown",
      "source": [
        "# 05. Transfer Learning with TensorFlow Part 1: Feature Extraction"
      ],
      "metadata": {
        "id": "Kb0AxEsa6Px0"
      }
    },
    {
      "cell_type": "code",
      "source": [
        "!wget https://storage.googleapis.com/ztm_tf_course/food_vision/10_food_classes_10_percent.zip\n",
        "unzip(\"10_food_classes_10_percent.zip\")"
      ],
      "metadata": {
        "colab": {
          "base_uri": "https://localhost:8080/"
        },
        "id": "yBEeZ-m_7Ke6",
        "outputId": "c6407141-f724-47ff-d199-a2fdd74b31db"
      },
      "execution_count": null,
      "outputs": [
        {
          "output_type": "stream",
          "name": "stdout",
          "text": [
            "--2023-02-26 08:45:35--  https://storage.googleapis.com/ztm_tf_course/food_vision/10_food_classes_10_percent.zip\n",
            "Resolving storage.googleapis.com (storage.googleapis.com)... 74.125.196.128, 173.194.217.128, 74.125.26.128, ...\n",
            "Connecting to storage.googleapis.com (storage.googleapis.com)|74.125.196.128|:443... connected.\n",
            "HTTP request sent, awaiting response... 200 OK\n",
            "Length: 168546183 (161M) [application/zip]\n",
            "Saving to: ‘10_food_classes_10_percent.zip’\n",
            "\n",
            "10_food_classes_10_ 100%[===================>] 160.74M   251MB/s    in 0.6s    \n",
            "\n",
            "2023-02-26 08:45:36 (251 MB/s) - ‘10_food_classes_10_percent.zip’ saved [168546183/168546183]\n",
            "\n"
          ]
        }
      ]
    },
    {
      "cell_type": "code",
      "source": [
        "cur_dir = Path.cwd()\n",
        "food_dir = cur_dir / \"10_food_classes_10_percent\"\n",
        "train_dir = food_dir / \"train\"\n",
        "test_dir = food_dir / \"test\""
      ],
      "metadata": {
        "id": "_oUjkiO87jHi"
      },
      "execution_count": null,
      "outputs": []
    },
    {
      "cell_type": "code",
      "source": [
        "from tensorflow.keras.preprocessing import image_dataset_from_directory\n",
        "\n",
        "train_set = image_dataset_from_directory(train_dir, label_mode=\"categorical\") # by defautl convert all images to be 256 x 256\n",
        "test_set = image_dataset_from_directory(test_dir, label_mode=\"categorical\") # image need to be rescale, currently 0-255\n",
        "\n",
        "class_names = train_set.class_names\n",
        "class_names"
      ],
      "metadata": {
        "colab": {
          "base_uri": "https://localhost:8080/"
        },
        "id": "DhpCf21O7w_H",
        "outputId": "80189209-2b9d-4bf3-ed7e-c4eb2d010430"
      },
      "execution_count": null,
      "outputs": [
        {
          "output_type": "stream",
          "name": "stdout",
          "text": [
            "Found 750 files belonging to 10 classes.\n",
            "Found 2500 files belonging to 10 classes.\n"
          ]
        },
        {
          "output_type": "execute_result",
          "data": {
            "text/plain": [
              "['chicken_curry',\n",
              " 'chicken_wings',\n",
              " 'fried_rice',\n",
              " 'grilled_salmon',\n",
              " 'hamburger',\n",
              " 'ice_cream',\n",
              " 'pizza',\n",
              " 'ramen',\n",
              " 'steak',\n",
              " 'sushi']"
            ]
          },
          "metadata": {},
          "execution_count": 29
        }
      ]
    },
    {
      "cell_type": "code",
      "source": [
        "for im, label in train_set.take(1):\n",
        "    print(im.shape)\n",
        "    print(label.shape)"
      ],
      "metadata": {
        "colab": {
          "base_uri": "https://localhost:8080/"
        },
        "id": "kV35Ggs41y1_",
        "outputId": "73bad530-8878-4d2c-e76f-c8953b236a47"
      },
      "execution_count": null,
      "outputs": [
        {
          "output_type": "stream",
          "name": "stdout",
          "text": [
            "(32, 256, 256, 3)\n",
            "(32, 10)\n"
          ]
        }
      ]
    },
    {
      "cell_type": "code",
      "source": [
        "preprocessing = tf.keras.Sequential([\n",
        "    tf.keras.layers.Resizing(256, 256),\n",
        "    tf.keras.layers.Rescaling(1./255),\n",
        "    tf.keras.layers.RandomFlip(\"horizontal_and_vertical\"),\n",
        "    tf.keras.layers.RandomRotation(0.2, fill_mode=\"constant\"), \n",
        "    tf.keras.layers.RandomZoom((-0.2, -0.4)) # A positive value means zooming out, while a negative value means zooming in\n",
        "])"
      ],
      "metadata": {
        "id": "2pP8IzNn6QPD"
      },
      "execution_count": null,
      "outputs": []
    },
    {
      "cell_type": "code",
      "source": [
        "efficientnet_url = \"https://tfhub.dev/tensorflow/efficientnet/b0/feature-vector/1\"\n",
        "\n",
        "feature_extractor_layer = hub.KerasLayer(efficientnet_url, \n",
        "                                         trainable=False, # freeze the underlying patterns\n",
        "                                         name=\"feature_extractor_layer\")\n",
        "    \n",
        "efficientnet_model = tf.keras.Sequential([\n",
        "        preprocessing,\n",
        "        feature_extractor_layer,\n",
        "        tf.keras.layers.Dense(len(class_names), activation=\"softmax\"),\n",
        "])\n",
        "\n",
        "efficientnet_model.compile(loss=\"categorical_crossentropy\",\n",
        "                           optimizer=\"adam\",\n",
        "                           metrics=[\"acc\"])\n",
        "\n",
        "efficientnet_history = efficientnet_model.fit(train_set,\n",
        "                                              epochs=10, \n",
        "                                              validation_data=test_set,\n",
        "                                              validation_steps=int(0.1*len(test_set)) # validation on 10% of the data\n",
        "                                              )"
      ],
      "metadata": {
        "colab": {
          "base_uri": "https://localhost:8080/"
        },
        "id": "l1DSZ1LG76z4",
        "outputId": "b3820266-e26c-4e5c-ffa3-aec4a1b4e894"
      },
      "execution_count": null,
      "outputs": [
        {
          "output_type": "stream",
          "name": "stderr",
          "text": [
            "WARNING:tensorflow:Please fix your imports. Module tensorflow.python.training.tracking.data_structures has been moved to tensorflow.python.trackable.data_structures. The old module will be deleted in version 2.11.\n"
          ]
        },
        {
          "output_type": "stream",
          "name": "stdout",
          "text": [
            "Epoch 1/10\n"
          ]
        },
        {
          "output_type": "stream",
          "name": "stderr",
          "text": [
            "WARNING:tensorflow:Using a while_loop for converting RngReadAndSkip cause there is no registered converter for this op.\n",
            "WARNING:tensorflow:Using a while_loop for converting Bitcast cause there is no registered converter for this op.\n",
            "WARNING:tensorflow:Using a while_loop for converting Bitcast cause there is no registered converter for this op.\n",
            "WARNING:tensorflow:Using a while_loop for converting StatelessRandomUniformV2 cause there is no registered converter for this op.\n",
            "WARNING:tensorflow:Using a while_loop for converting ImageProjectiveTransformV3 cause there is no registered converter for this op.\n",
            "WARNING:tensorflow:Using a while_loop for converting RngReadAndSkip cause there is no registered converter for this op.\n",
            "WARNING:tensorflow:Using a while_loop for converting Bitcast cause there is no registered converter for this op.\n",
            "WARNING:tensorflow:Using a while_loop for converting Bitcast cause there is no registered converter for this op.\n",
            "WARNING:tensorflow:Using a while_loop for converting StatelessRandomUniformV2 cause there is no registered converter for this op.\n",
            "WARNING:tensorflow:Using a while_loop for converting ImageProjectiveTransformV3 cause there is no registered converter for this op.\n",
            "WARNING:tensorflow:Using a while_loop for converting RngReadAndSkip cause there is no registered converter for this op.\n",
            "WARNING:tensorflow:Using a while_loop for converting Bitcast cause there is no registered converter for this op.\n",
            "WARNING:tensorflow:Using a while_loop for converting Bitcast cause there is no registered converter for this op.\n",
            "WARNING:tensorflow:Using a while_loop for converting StatelessRandomUniformV2 cause there is no registered converter for this op.\n",
            "WARNING:tensorflow:Using a while_loop for converting ImageProjectiveTransformV3 cause there is no registered converter for this op.\n",
            "WARNING:tensorflow:Using a while_loop for converting RngReadAndSkip cause there is no registered converter for this op.\n",
            "WARNING:tensorflow:Using a while_loop for converting Bitcast cause there is no registered converter for this op.\n",
            "WARNING:tensorflow:Using a while_loop for converting Bitcast cause there is no registered converter for this op.\n",
            "WARNING:tensorflow:Using a while_loop for converting StatelessRandomUniformV2 cause there is no registered converter for this op.\n",
            "WARNING:tensorflow:Using a while_loop for converting ImageProjectiveTransformV3 cause there is no registered converter for this op.\n",
            "WARNING:tensorflow:From /usr/local/lib/python3.8/dist-packages/tensorflow/python/autograph/pyct/static_analysis/liveness.py:83: Analyzer.lamba_check (from tensorflow.python.autograph.pyct.static_analysis.liveness) is deprecated and will be removed after 2023-09-23.\n",
            "Instructions for updating:\n",
            "Lambda fuctions will be no more assumed to be used in the statement where they are used, or at least in the same block. https://github.com/tensorflow/tensorflow/issues/56089\n",
            "WARNING:tensorflow:Using a while_loop for converting RngReadAndSkip cause there is no registered converter for this op.\n",
            "WARNING:tensorflow:Using a while_loop for converting Bitcast cause there is no registered converter for this op.\n",
            "WARNING:tensorflow:Using a while_loop for converting Bitcast cause there is no registered converter for this op.\n",
            "WARNING:tensorflow:Using a while_loop for converting StatelessRandomUniformV2 cause there is no registered converter for this op.\n",
            "WARNING:tensorflow:Using a while_loop for converting ImageProjectiveTransformV3 cause there is no registered converter for this op.\n",
            "WARNING:tensorflow:Using a while_loop for converting RngReadAndSkip cause there is no registered converter for this op.\n",
            "WARNING:tensorflow:Using a while_loop for converting Bitcast cause there is no registered converter for this op.\n",
            "WARNING:tensorflow:Using a while_loop for converting Bitcast cause there is no registered converter for this op.\n",
            "WARNING:tensorflow:Using a while_loop for converting StatelessRandomUniformV2 cause there is no registered converter for this op.\n",
            "WARNING:tensorflow:Using a while_loop for converting ImageProjectiveTransformV3 cause there is no registered converter for this op.\n",
            "WARNING:tensorflow:Using a while_loop for converting RngReadAndSkip cause there is no registered converter for this op.\n",
            "WARNING:tensorflow:Using a while_loop for converting Bitcast cause there is no registered converter for this op.\n",
            "WARNING:tensorflow:Using a while_loop for converting Bitcast cause there is no registered converter for this op.\n",
            "WARNING:tensorflow:Using a while_loop for converting StatelessRandomUniformV2 cause there is no registered converter for this op.\n",
            "WARNING:tensorflow:Using a while_loop for converting ImageProjectiveTransformV3 cause there is no registered converter for this op.\n",
            "WARNING:tensorflow:Using a while_loop for converting RngReadAndSkip cause there is no registered converter for this op.\n",
            "WARNING:tensorflow:Using a while_loop for converting Bitcast cause there is no registered converter for this op.\n",
            "WARNING:tensorflow:Using a while_loop for converting Bitcast cause there is no registered converter for this op.\n",
            "WARNING:tensorflow:Using a while_loop for converting StatelessRandomUniformV2 cause there is no registered converter for this op.\n",
            "WARNING:tensorflow:Using a while_loop for converting ImageProjectiveTransformV3 cause there is no registered converter for this op.\n"
          ]
        },
        {
          "output_type": "stream",
          "name": "stdout",
          "text": [
            "24/24 [==============================] - 23s 338ms/step - loss: 1.9139 - acc: 0.3987 - val_loss: 1.4195 - val_acc: 0.6920\n",
            "Epoch 2/10\n",
            "24/24 [==============================] - 7s 291ms/step - loss: 1.3129 - acc: 0.7160 - val_loss: 1.0362 - val_acc: 0.7589\n",
            "Epoch 3/10\n",
            "24/24 [==============================] - 7s 271ms/step - loss: 1.0189 - acc: 0.7773 - val_loss: 0.9173 - val_acc: 0.7589\n",
            "Epoch 4/10\n",
            "24/24 [==============================] - 7s 259ms/step - loss: 0.8593 - acc: 0.7920 - val_loss: 0.7752 - val_acc: 0.8125\n",
            "Epoch 5/10\n",
            "24/24 [==============================] - 9s 343ms/step - loss: 0.7519 - acc: 0.8280 - val_loss: 0.7070 - val_acc: 0.8304\n",
            "Epoch 6/10\n",
            "24/24 [==============================] - 11s 467ms/step - loss: 0.6780 - acc: 0.8373 - val_loss: 0.6613 - val_acc: 0.8438\n",
            "Epoch 7/10\n",
            "24/24 [==============================] - 14s 525ms/step - loss: 0.6259 - acc: 0.8493 - val_loss: 0.6531 - val_acc: 0.8348\n",
            "Epoch 8/10\n",
            "24/24 [==============================] - 12s 459ms/step - loss: 0.5776 - acc: 0.8600 - val_loss: 0.6278 - val_acc: 0.7991\n",
            "Epoch 9/10\n",
            "24/24 [==============================] - 11s 466ms/step - loss: 0.5156 - acc: 0.8760 - val_loss: 0.6152 - val_acc: 0.8304\n",
            "Epoch 10/10\n",
            "24/24 [==============================] - 7s 287ms/step - loss: 0.4967 - acc: 0.8813 - val_loss: 0.5520 - val_acc: 0.8527\n"
          ]
        }
      ]
    },
    {
      "cell_type": "code",
      "source": [
        "efficientnet_model.evaluate(test_set) # np.sum(y_test == y_preds)/y_preds.size"
      ],
      "metadata": {
        "colab": {
          "base_uri": "https://localhost:8080/"
        },
        "id": "dmMKNScT674c",
        "outputId": "d1773cd3-24d9-4c61-bba9-e02e156573b3"
      },
      "execution_count": null,
      "outputs": [
        {
          "output_type": "stream",
          "name": "stdout",
          "text": [
            "79/79 [==============================] - 7s 83ms/step - loss: 0.5086 - acc: 0.8616\n"
          ]
        },
        {
          "output_type": "execute_result",
          "data": {
            "text/plain": [
              "[0.5086060166358948, 0.8615999817848206]"
            ]
          },
          "metadata": {},
          "execution_count": 33
        }
      ]
    },
    {
      "cell_type": "code",
      "source": [
        "y_test = []\n",
        "im_test = []\n",
        "for im, label in test_set.unbatch():\n",
        "    y_test.append(label)\n",
        "    im_test.append(im)\n",
        "im_test = np.array(im_test)\n",
        "y_test = np.array(y_test).argmax(axis=1)\n",
        "y_test.shape"
      ],
      "metadata": {
        "colab": {
          "base_uri": "https://localhost:8080/"
        },
        "id": "gFysClqK2Tqe",
        "outputId": "d9ab1892-4cca-495d-c25c-f9beaed39033"
      },
      "execution_count": null,
      "outputs": [
        {
          "output_type": "execute_result",
          "data": {
            "text/plain": [
              "(2500,)"
            ]
          },
          "metadata": {},
          "execution_count": 34
        }
      ]
    },
    {
      "cell_type": "code",
      "source": [
        "y_preds = efficientnet_model.predict(im_test)"
      ],
      "metadata": {
        "colab": {
          "base_uri": "https://localhost:8080/"
        },
        "id": "7JnKbF4J3MiE",
        "outputId": "a0aaf7d1-64c7-4138-84fb-c9fc566a4e14"
      },
      "execution_count": null,
      "outputs": [
        {
          "output_type": "stream",
          "name": "stdout",
          "text": [
            "79/79 [==============================] - 7s 73ms/step\n"
          ]
        }
      ]
    },
    {
      "cell_type": "code",
      "source": [
        "y_preds[0], y_preds[0].argmax(), class_names[y_preds[0].argmax()]"
      ],
      "metadata": {
        "colab": {
          "base_uri": "https://localhost:8080/"
        },
        "id": "hrdzeKio3O4G",
        "outputId": "f861119a-efbf-4f6e-cb48-0c5b1f3435cb"
      },
      "execution_count": null,
      "outputs": [
        {
          "output_type": "execute_result",
          "data": {
            "text/plain": [
              "(array([0.00586653, 0.0270859 , 0.00275143, 0.29617122, 0.02240472,\n",
              "        0.0025462 , 0.000824  , 0.02160218, 0.61215633, 0.00859146],\n",
              "       dtype=float32), 8, 'steak')"
            ]
          },
          "metadata": {},
          "execution_count": 36
        }
      ]
    },
    {
      "cell_type": "code",
      "source": [
        "y_preds = y_preds.argmax(axis=1)"
      ],
      "metadata": {
        "id": "xTJJI3xr6aOK"
      },
      "execution_count": null,
      "outputs": []
    },
    {
      "cell_type": "code",
      "source": [
        "from sklearn.metrics import confusion_matrix\n",
        "\n",
        "cf_mat = confusion_matrix(y_test, y_preds)\n",
        "plt.figure(figsize=(12,10))\n",
        "plot_confusion_matrix_multiclass(cf_mat, class_names, cbar=True)"
      ],
      "metadata": {
        "colab": {
          "base_uri": "https://localhost:8080/",
          "height": 722
        },
        "id": "WNF3KPGe1BFd",
        "outputId": "e5782df3-1b49-4830-edd2-dac522177abd"
      },
      "execution_count": null,
      "outputs": [
        {
          "output_type": "display_data",
          "data": {
            "text/plain": [
              "<Figure size 864x720 with 2 Axes>"
            ],
            "image/png": "[encoded data removed]"
          },
          "metadata": {
            "needs_background": "light"
          }
        }
      ]
    },
    {
      "cell_type": "markdown",
      "source": [
        "# 05. Transfer Learning with TensorFlow Part 2: Fine-tuning"
      ],
      "metadata": {
        "id": "5-O-dO6a9FoB"
      }
    },
    {
      "cell_type": "code",
      "source": [
        "data_augmentation = tf.keras.Sequential([\n",
        "    # tf.keras.layers.Rescaling(1./255), # keep for ResNet50V2, remove for EfficientNetB0\n",
        "    tf.keras.layers.RandomFlip(\"horizontal_and_vertical\"),\n",
        "    tf.keras.layers.RandomRotation(0.2, fill_mode=\"constant\"), \n",
        "    tf.keras.layers.RandomZoom((-0.2,-0.2), fill_mode=\"constant\"), # A positive value means zooming out, while a negative value means zooming in\n",
        "    tf.keras.layers.RandomHeight(0.2),\n",
        "    tf.keras.layers.RandomWidth(0.2)\n",
        "    ], \n",
        "    name=\"data_augmentation\")"
      ],
      "metadata": {
        "id": "qi7NDxswE-te"
      },
      "execution_count": null,
      "outputs": []
    },
    {
      "cell_type": "code",
      "source": [
        "checkpoint_path = \"model_checkpoints_weights/checkpoint.ckpt\" # note: remember saving directly to Colab is temporary\n",
        "\n",
        "# Create a ModelCheckpoint callback that saves the model's weights only\n",
        "checkpoint_callback = tf.keras.callbacks.ModelCheckpoint(filepath=checkpoint_path,\n",
        "                                                           save_weights_only=True, # set to False to save the entire model\n",
        "                                                           save_best_only=False, # set to True to save only the best model instead of a model every epoch \n",
        "                                                           save_freq=\"epoch\", # save every epoch\n",
        "                                                           verbose=1)\n",
        "\n",
        "es_callback = tf.keras.callbacks.EarlyStopping(\n",
        "                monitor='val_loss',\n",
        "                patience=3,\n",
        "                restore_best_weights=True)"
      ],
      "metadata": {
        "id": "RQjM4mP7THSS"
      },
      "execution_count": null,
      "outputs": []
    },
    {
      "cell_type": "markdown",
      "source": [
        "Start like **Feature Extraction**"
      ],
      "metadata": {
        "id": "cW4H_KFwUpI3"
      }
    },
    {
      "cell_type": "code",
      "source": [
        "tf.random.set_seed(0)\n",
        "\n",
        "base_model = tf.keras.applications.EfficientNetB0(include_top=False)\n",
        "base_model.trainable = False\n",
        "\n",
        "inputs = tf.keras.Input(shape=(256,256,3), name=\"input_layer\")\n",
        "\n",
        "x = data_augmentation(inputs)\n",
        "x = base_model(x, training=False)\n",
        "x = tf.keras.layers.GlobalAveragePooling2D(name=\"Global_Average_Pooling_layer\")(x)\n",
        "outputs = tf.keras.layers.Dense(10, activation=\"sigmoid\", name=\"output_layer\")(x)\n",
        "\n",
        "fine_tune_model = tf.keras.Model(inputs, outputs)\n",
        "\n",
        "fine_tune_model.compile(loss=\"categorical_crossentropy\",\n",
        "                optimizer=\"adam\",\n",
        "                metrics=[\"acc\"])\n",
        "\n",
        "init_epochs = 10\n",
        "fine_tune_history = fine_tune_model.fit(train_set,\n",
        "                                        epochs=init_epochs,\n",
        "                                        validation_data=test_set,\n",
        "                                        validation_steps = int(0.1*len(test_set)),\n",
        "                                        callbacks=[checkpoint_callback, es_callback]\n",
        "                                        )"
      ],
      "metadata": {
        "colab": {
          "base_uri": "https://localhost:8080/"
        },
        "id": "xM-mEERaFiVO",
        "outputId": "52c5fc3e-5406-487e-b7b2-1c35c929e2e7"
      },
      "execution_count": null,
      "outputs": [
        {
          "output_type": "stream",
          "name": "stdout",
          "text": [
            "Downloading data from https://storage.googleapis.com/keras-applications/efficientnetb0_notop.h5\n",
            "16705208/16705208 [==============================] - 0s 0us/step\n"
          ]
        },
        {
          "output_type": "stream",
          "name": "stderr",
          "text": [
            "WARNING:tensorflow:Using a while_loop for converting RngReadAndSkip cause there is no registered converter for this op.\n",
            "WARNING:tensorflow:Using a while_loop for converting Bitcast cause there is no registered converter for this op.\n",
            "WARNING:tensorflow:Using a while_loop for converting Bitcast cause there is no registered converter for this op.\n",
            "WARNING:tensorflow:Using a while_loop for converting StatelessRandomUniformV2 cause there is no registered converter for this op.\n",
            "WARNING:tensorflow:Using a while_loop for converting ImageProjectiveTransformV3 cause there is no registered converter for this op.\n",
            "WARNING:tensorflow:Using a while_loop for converting RngReadAndSkip cause there is no registered converter for this op.\n",
            "WARNING:tensorflow:Using a while_loop for converting Bitcast cause there is no registered converter for this op.\n",
            "WARNING:tensorflow:Using a while_loop for converting Bitcast cause there is no registered converter for this op.\n",
            "WARNING:tensorflow:Using a while_loop for converting StatelessRandomUniformV2 cause there is no registered converter for this op.\n",
            "WARNING:tensorflow:Using a while_loop for converting ImageProjectiveTransformV3 cause there is no registered converter for this op.\n",
            "WARNING:tensorflow:Using a while_loop for converting RngReadAndSkip cause there is no registered converter for this op.\n",
            "WARNING:tensorflow:Using a while_loop for converting Bitcast cause there is no registered converter for this op.\n",
            "WARNING:tensorflow:Using a while_loop for converting Bitcast cause there is no registered converter for this op.\n",
            "WARNING:tensorflow:Using a while_loop for converting StatelessRandomUniformV2 cause there is no registered converter for this op.\n",
            "WARNING:tensorflow:Using a while_loop for converting ImageProjectiveTransformV3 cause there is no registered converter for this op.\n",
            "WARNING:tensorflow:Using a while_loop for converting RngReadAndSkip cause there is no registered converter for this op.\n",
            "WARNING:tensorflow:Using a while_loop for converting Bitcast cause there is no registered converter for this op.\n",
            "WARNING:tensorflow:Using a while_loop for converting Bitcast cause there is no registered converter for this op.\n",
            "WARNING:tensorflow:Using a while_loop for converting StatelessRandomUniformV2 cause there is no registered converter for this op.\n",
            "WARNING:tensorflow:Using a while_loop for converting ImageProjectiveTransformV3 cause there is no registered converter for this op.\n"
          ]
        },
        {
          "output_type": "stream",
          "name": "stdout",
          "text": [
            "Epoch 1/10\n"
          ]
        },
        {
          "output_type": "stream",
          "name": "stderr",
          "text": [
            "WARNING:tensorflow:Using a while_loop for converting RngReadAndSkip cause there is no registered converter for this op.\n",
            "WARNING:tensorflow:Using a while_loop for converting Bitcast cause there is no registered converter for this op.\n",
            "WARNING:tensorflow:Using a while_loop for converting Bitcast cause there is no registered converter for this op.\n",
            "WARNING:tensorflow:Using a while_loop for converting StatelessRandomUniformV2 cause there is no registered converter for this op.\n",
            "WARNING:tensorflow:Using a while_loop for converting ImageProjectiveTransformV3 cause there is no registered converter for this op.\n",
            "WARNING:tensorflow:Using a while_loop for converting RngReadAndSkip cause there is no registered converter for this op.\n",
            "WARNING:tensorflow:Using a while_loop for converting Bitcast cause there is no registered converter for this op.\n",
            "WARNING:tensorflow:Using a while_loop for converting Bitcast cause there is no registered converter for this op.\n",
            "WARNING:tensorflow:Using a while_loop for converting StatelessRandomUniformV2 cause there is no registered converter for this op.\n",
            "WARNING:tensorflow:Using a while_loop for converting ImageProjectiveTransformV3 cause there is no registered converter for this op.\n",
            "WARNING:tensorflow:Using a while_loop for converting RngReadAndSkip cause there is no registered converter for this op.\n",
            "WARNING:tensorflow:Using a while_loop for converting Bitcast cause there is no registered converter for this op.\n",
            "WARNING:tensorflow:Using a while_loop for converting Bitcast cause there is no registered converter for this op.\n",
            "WARNING:tensorflow:Using a while_loop for converting StatelessRandomUniformV2 cause there is no registered converter for this op.\n",
            "WARNING:tensorflow:Using a while_loop for converting ImageProjectiveTransformV3 cause there is no registered converter for this op.\n",
            "WARNING:tensorflow:Using a while_loop for converting RngReadAndSkip cause there is no registered converter for this op.\n",
            "WARNING:tensorflow:Using a while_loop for converting Bitcast cause there is no registered converter for this op.\n",
            "WARNING:tensorflow:Using a while_loop for converting Bitcast cause there is no registered converter for this op.\n",
            "WARNING:tensorflow:Using a while_loop for converting StatelessRandomUniformV2 cause there is no registered converter for this op.\n",
            "WARNING:tensorflow:Using a while_loop for converting ImageProjectiveTransformV3 cause there is no registered converter for this op.\n"
          ]
        },
        {
          "output_type": "stream",
          "name": "stdout",
          "text": [
            "24/24 [==============================] - ETA: 0s - loss: 1.9300 - acc: 0.3907\n",
            "Epoch 1: saving model to model_checkpoints_weights/checkpoint.ckpt\n",
            "24/24 [==============================] - 33s 971ms/step - loss: 1.9300 - acc: 0.3907 - val_loss: 1.4058 - val_acc: 0.6786\n",
            "Epoch 2/10\n",
            "24/24 [==============================] - ETA: 0s - loss: 1.2866 - acc: 0.7000\n",
            "Epoch 2: saving model to model_checkpoints_weights/checkpoint.ckpt\n",
            "24/24 [==============================] - 21s 878ms/step - loss: 1.2866 - acc: 0.7000 - val_loss: 1.0811 - val_acc: 0.7545\n",
            "Epoch 3/10\n",
            "24/24 [==============================] - ETA: 0s - loss: 1.0032 - acc: 0.7587\n",
            "Epoch 3: saving model to model_checkpoints_weights/checkpoint.ckpt\n",
            "24/24 [==============================] - 18s 728ms/step - loss: 1.0032 - acc: 0.7587 - val_loss: 0.8641 - val_acc: 0.8170\n",
            "Epoch 4/10\n",
            "24/24 [==============================] - ETA: 0s - loss: 0.8372 - acc: 0.7933\n",
            "Epoch 4: saving model to model_checkpoints_weights/checkpoint.ckpt\n",
            "24/24 [==============================] - 17s 657ms/step - loss: 0.8372 - acc: 0.7933 - val_loss: 0.7510 - val_acc: 0.8080\n",
            "Epoch 5/10\n",
            "24/24 [==============================] - ETA: 0s - loss: 0.7389 - acc: 0.8307\n",
            "Epoch 5: saving model to model_checkpoints_weights/checkpoint.ckpt\n",
            "24/24 [==============================] - 17s 697ms/step - loss: 0.7389 - acc: 0.8307 - val_loss: 0.6545 - val_acc: 0.8482\n",
            "Epoch 6/10\n",
            "24/24 [==============================] - ETA: 0s - loss: 0.6608 - acc: 0.8360\n",
            "Epoch 6: saving model to model_checkpoints_weights/checkpoint.ckpt\n",
            "24/24 [==============================] - 13s 537ms/step - loss: 0.6608 - acc: 0.8360 - val_loss: 0.6347 - val_acc: 0.8259\n",
            "Epoch 7/10\n",
            "24/24 [==============================] - ETA: 0s - loss: 0.6130 - acc: 0.8627\n",
            "Epoch 7: saving model to model_checkpoints_weights/checkpoint.ckpt\n",
            "24/24 [==============================] - 14s 553ms/step - loss: 0.6130 - acc: 0.8627 - val_loss: 0.5554 - val_acc: 0.8616\n",
            "Epoch 8/10\n",
            "24/24 [==============================] - ETA: 0s - loss: 0.5720 - acc: 0.8640\n",
            "Epoch 8: saving model to model_checkpoints_weights/checkpoint.ckpt\n",
            "24/24 [==============================] - 16s 609ms/step - loss: 0.5720 - acc: 0.8640 - val_loss: 0.6176 - val_acc: 0.8438\n",
            "Epoch 9/10\n",
            "24/24 [==============================] - ETA: 0s - loss: 0.5259 - acc: 0.8733\n",
            "Epoch 9: saving model to model_checkpoints_weights/checkpoint.ckpt\n",
            "24/24 [==============================] - 15s 584ms/step - loss: 0.5259 - acc: 0.8733 - val_loss: 0.6215 - val_acc: 0.8482\n",
            "Epoch 10/10\n",
            "24/24 [==============================] - ETA: 0s - loss: 0.4774 - acc: 0.8840\n",
            "Epoch 10: saving model to model_checkpoints_weights/checkpoint.ckpt\n",
            "24/24 [==============================] - 14s 555ms/step - loss: 0.4774 - acc: 0.8840 - val_loss: 0.6016 - val_acc: 0.8393\n"
          ]
        }
      ]
    },
    {
      "cell_type": "code",
      "source": [
        "fine_tune_score = fine_tune_model.evaluate(test_set)\n",
        "\n",
        "fine_tune_model.load_weights(checkpoint_path)\n",
        "fine_tune_score_loaded = fine_tune_model.evaluate(test_set)\n",
        "\n",
        "np.isclose(fine_tune_score, fine_tune_score_loaded)"
      ],
      "metadata": {
        "colab": {
          "base_uri": "https://localhost:8080/"
        },
        "id": "BfICQcg9FxQw",
        "outputId": "9b0f2609-a9cf-4eec-a088-0633491877cf"
      },
      "execution_count": null,
      "outputs": [
        {
          "output_type": "stream",
          "name": "stdout",
          "text": [
            "79/79 [==============================] - 7s 85ms/step - loss: 0.5777 - acc: 0.8484\n",
            "79/79 [==============================] - 8s 89ms/step - loss: 0.5195 - acc: 0.8544\n"
          ]
        },
        {
          "output_type": "execute_result",
          "data": {
            "text/plain": [
              "array([False, False])"
            ]
          },
          "metadata": {},
          "execution_count": 42
        }
      ]
    },
    {
      "cell_type": "markdown",
      "source": [
        "## Fine tune :"
      ],
      "metadata": {
        "id": "5TlHUwcPUk5D"
      }
    },
    {
      "cell_type": "code",
      "source": [
        "base_model.trainable = True\n",
        "\n",
        "for layer in base_model.layers[:-10]:\n",
        "    layer.trainable = False"
      ],
      "metadata": {
        "id": "ziEYvkLZUXwa"
      },
      "execution_count": null,
      "outputs": []
    },
    {
      "cell_type": "code",
      "source": [
        "for i, layer in enumerate(fine_tune_model.layers):\n",
        "    print(f\"{i:<3} {layer.name:-<30} {layer.trainable}\")"
      ],
      "metadata": {
        "colab": {
          "base_uri": "https://localhost:8080/"
        },
        "id": "CGMjtoLfU5Lt",
        "outputId": "afa65503-9208-4415-c815-26422a60aabe"
      },
      "execution_count": null,
      "outputs": [
        {
          "output_type": "stream",
          "name": "stdout",
          "text": [
            "0   input_layer------------------- True\n",
            "1   data_augmentation------------- True\n",
            "2   efficientnetb0---------------- True\n",
            "3   Global_Average_Pooling_layer-- True\n",
            "4   output_layer------------------ True\n"
          ]
        }
      ]
    },
    {
      "cell_type": "code",
      "source": [
        "# Dont forget to re-compile every time you make a change\n",
        "fine_tune_model.compile(loss=\"categorical_crossentropy\",\n",
        "                        optimizer=tf.keras.optimizers.Adam(learning_rate=0.0001), # often lr/10 \n",
        "                        # We do this so the model doesn't try to overwrite the existing weights in the pretrained model too fast. \n",
        "                        # In other words, we want learning to be more gradual.\n",
        "                        metrics=[\"acc\"])"
      ],
      "metadata": {
        "id": "bqOt6vP7U9xZ"
      },
      "execution_count": null,
      "outputs": []
    },
    {
      "cell_type": "code",
      "source": [
        "fine_tune_epochs = init_epochs + 5\n",
        "\n",
        "fine_tune_history_2 = fine_tune_model.fit(train_set,\n",
        "                                          epochs=fine_tune_epochs,\n",
        "                                          validation_data=test_set,\n",
        "                                          validation_steps = int(0.1*len(test_set)),\n",
        "                                          initial_epoch=fine_tune_history.epoch[-1]\n",
        "                                          )"
      ],
      "metadata": {
        "colab": {
          "base_uri": "https://localhost:8080/"
        },
        "id": "YdCCoVhwVJnx",
        "outputId": "9ed469c3-1014-4d13-c21f-a0e65d79864b"
      },
      "execution_count": null,
      "outputs": [
        {
          "output_type": "stream",
          "name": "stdout",
          "text": [
            "Epoch 10/15\n"
          ]
        },
        {
          "output_type": "stream",
          "name": "stderr",
          "text": [
            "WARNING:tensorflow:Using a while_loop for converting RngReadAndSkip cause there is no registered converter for this op.\n",
            "WARNING:tensorflow:Using a while_loop for converting Bitcast cause there is no registered converter for this op.\n",
            "WARNING:tensorflow:Using a while_loop for converting Bitcast cause there is no registered converter for this op.\n",
            "WARNING:tensorflow:Using a while_loop for converting StatelessRandomUniformV2 cause there is no registered converter for this op.\n",
            "WARNING:tensorflow:Using a while_loop for converting ImageProjectiveTransformV3 cause there is no registered converter for this op.\n",
            "WARNING:tensorflow:Using a while_loop for converting RngReadAndSkip cause there is no registered converter for this op.\n",
            "WARNING:tensorflow:Using a while_loop for converting Bitcast cause there is no registered converter for this op.\n",
            "WARNING:tensorflow:Using a while_loop for converting Bitcast cause there is no registered converter for this op.\n",
            "WARNING:tensorflow:Using a while_loop for converting StatelessRandomUniformV2 cause there is no registered converter for this op.\n",
            "WARNING:tensorflow:Using a while_loop for converting ImageProjectiveTransformV3 cause there is no registered converter for this op.\n",
            "WARNING:tensorflow:Using a while_loop for converting RngReadAndSkip cause there is no registered converter for this op.\n",
            "WARNING:tensorflow:Using a while_loop for converting Bitcast cause there is no registered converter for this op.\n",
            "WARNING:tensorflow:Using a while_loop for converting Bitcast cause there is no registered converter for this op.\n",
            "WARNING:tensorflow:Using a while_loop for converting StatelessRandomUniformV2 cause there is no registered converter for this op.\n",
            "WARNING:tensorflow:Using a while_loop for converting ImageProjectiveTransformV3 cause there is no registered converter for this op.\n",
            "WARNING:tensorflow:Using a while_loop for converting RngReadAndSkip cause there is no registered converter for this op.\n",
            "WARNING:tensorflow:Using a while_loop for converting Bitcast cause there is no registered converter for this op.\n",
            "WARNING:tensorflow:Using a while_loop for converting Bitcast cause there is no registered converter for this op.\n",
            "WARNING:tensorflow:Using a while_loop for converting StatelessRandomUniformV2 cause there is no registered converter for this op.\n",
            "WARNING:tensorflow:Using a while_loop for converting ImageProjectiveTransformV3 cause there is no registered converter for this op.\n"
          ]
        },
        {
          "output_type": "stream",
          "name": "stdout",
          "text": [
            "24/24 [==============================] - 34s 852ms/step - loss: 0.4177 - acc: 0.8880 - val_loss: 0.5426 - val_acc: 0.8036\n",
            "Epoch 11/15\n",
            "24/24 [==============================] - 16s 662ms/step - loss: 0.3309 - acc: 0.9120 - val_loss: 0.4586 - val_acc: 0.8527\n",
            "Epoch 12/15\n",
            "24/24 [==============================] - 14s 572ms/step - loss: 0.2837 - acc: 0.9293 - val_loss: 0.4200 - val_acc: 0.8750\n",
            "Epoch 13/15\n",
            "24/24 [==============================] - 15s 627ms/step - loss: 0.2421 - acc: 0.9440 - val_loss: 0.4247 - val_acc: 0.8571\n",
            "Epoch 14/15\n",
            "24/24 [==============================] - 18s 719ms/step - loss: 0.2107 - acc: 0.9467 - val_loss: 0.4533 - val_acc: 0.8527\n",
            "Epoch 15/15\n",
            "24/24 [==============================] - 12s 447ms/step - loss: 0.1806 - acc: 0.9560 - val_loss: 0.4916 - val_acc: 0.8259\n"
          ]
        }
      ]
    },
    {
      "cell_type": "code",
      "source": [
        "fine_tune_model.evaluate(test_set)"
      ],
      "metadata": {
        "colab": {
          "base_uri": "https://localhost:8080/"
        },
        "id": "vB1V3rugVvvA",
        "outputId": "e987f3a0-e5e3-43a0-eaaf-ae728715d5b7"
      },
      "execution_count": null,
      "outputs": [
        {
          "output_type": "stream",
          "name": "stdout",
          "text": [
            "79/79 [==============================] - 8s 89ms/step - loss: 0.3956 - acc: 0.8680\n"
          ]
        },
        {
          "output_type": "execute_result",
          "data": {
            "text/plain": [
              "[0.39556193351745605, 0.8679999709129333]"
            ]
          },
          "metadata": {},
          "execution_count": 47
        }
      ]
    },
    {
      "cell_type": "markdown",
      "source": [
        "## Comparing and plotting"
      ],
      "metadata": {
        "id": "M9S9Vxn4V4bY"
      }
    },
    {
      "cell_type": "code",
      "source": [
        "def compare_historys(original_history, new_history, initial_epochs=5):\n",
        "\n",
        "    # Get original history measurements\n",
        "    acc = original_history.history[\"acc\"]\n",
        "    loss = original_history.history[\"loss\"]\n",
        "\n",
        "    val_acc = original_history.history[\"val_acc\"]\n",
        "    val_loss = original_history.history[\"val_loss\"]\n",
        "\n",
        "    # Combine original history with new history\n",
        "    total_acc = acc + new_history.history[\"acc\"]\n",
        "    total_loss = loss + new_history.history[\"loss\"]\n",
        "\n",
        "    total_val_acc = val_acc + new_history.history[\"val_acc\"]\n",
        "    total_val_loss = val_loss + new_history.history[\"val_loss\"]\n",
        "\n",
        "\n",
        "    # Make plots\n",
        "    plt.figure(figsize=(8, 8))\n",
        "    plt.subplot(2, 1, 1)\n",
        "    plt.plot(total_acc, label='Training Accuracy')\n",
        "    plt.plot(total_val_acc, label='Validation Accuracy')\n",
        "    plt.plot([initial_epochs-1, initial_epochs-1],\n",
        "              plt.ylim(), label='Start Fine Tuning') # reshift plot around epochs\n",
        "    plt.legend(loc='lower right')\n",
        "    plt.title('Training and Validation Accuracy')\n",
        "\n",
        "    plt.subplot(2, 1, 2)\n",
        "    plt.plot(total_loss, label='Training Loss')\n",
        "    plt.plot(total_val_loss, label='Validation Loss')\n",
        "    plt.plot([initial_epochs-1, initial_epochs-1],\n",
        "              plt.ylim(), label='Start Fine Tuning') # reshift plot around epochs\n",
        "    plt.legend(loc='upper right')\n",
        "    plt.title('Training and Validation Loss')\n",
        "    plt.xlabel('epoch')\n",
        "    plt.show()"
      ],
      "metadata": {
        "id": "3YTcqJWBV19W"
      },
      "execution_count": null,
      "outputs": []
    },
    {
      "cell_type": "code",
      "source": [
        "compare_historys(original_history=fine_tune_history, \n",
        "                 new_history=fine_tune_history_2, \n",
        "                 initial_epochs=10)"
      ],
      "metadata": {
        "colab": {
          "base_uri": "https://localhost:8080/",
          "height": 513
        },
        "id": "VZvRFSTrV-QZ",
        "outputId": "fcd2ac8c-c74a-47f0-9f91-173ffcbf6118"
      },
      "execution_count": null,
      "outputs": [
        {
          "output_type": "display_data",
          "data": {
            "text/plain": [
              "<Figure size 576x576 with 2 Axes>"
            ],
            "image/png": "[encoded data removed]"
          },
          "metadata": {
            "needs_background": "light"
          }
        }
      ]
    },
    {
      "cell_type": "markdown",
      "source": [
        "# 06. Mixed precision\n",
        "\n",
        "**WARNING :**\n",
        "\n",
        "*Underflow and Overflow*<br>\n",
        "The float16 data type has a narrow dynamic range compared to float32. This means values above $65504$ will overflow to infinity and values below $6 \\cdot 10^{-8}$ will underflow to zero.\n",
        "\n",
        "float32 and bfloat16 have a much higher dynamic range so that overflow and underflow are not a problem."
      ],
      "metadata": {
        "id": "kXCp0VZ8fymd"
      }
    },
    {
      "cell_type": "code",
      "source": [
        "(x_train, y_train), (x_test, y_test) = tf.keras.datasets.mnist.load_data()"
      ],
      "metadata": {
        "id": "AiTPCtD_iq34",
        "colab": {
          "base_uri": "https://localhost:8080/"
        },
        "outputId": "4766e5bf-8fc8-43ed-b16e-2a00d8130302"
      },
      "execution_count": null,
      "outputs": [
        {
          "output_type": "stream",
          "name": "stdout",
          "text": [
            "Downloading data from https://storage.googleapis.com/tensorflow/tf-keras-datasets/mnist.npz\n",
            "11490434/11490434 [==============================] - 0s 0us/step\n"
          ]
        }
      ]
    },
    {
      "cell_type": "code",
      "source": [
        "plt.imshow(x_train[0]), x_train[0].dtype # make sure to converte to float32"
      ],
      "metadata": {
        "colab": {
          "base_uri": "https://localhost:8080/",
          "height": 282
        },
        "id": "yWAHPbUDiu5c",
        "outputId": "15394189-e892-4e5e-8697-ace1dec03175"
      },
      "execution_count": null,
      "outputs": [
        {
          "output_type": "execute_result",
          "data": {
            "text/plain": [
              "(<matplotlib.image.AxesImage at 0x7f4cf3a3eb80>, dtype('uint8'))"
            ]
          },
          "metadata": {},
          "execution_count": 51
        },
        {
          "output_type": "display_data",
          "data": {
            "text/plain": [
              "<Figure size 432x288 with 1 Axes>"
            ],
            "image/png": "[encoded data removed]"
          },
          "metadata": {
            "needs_background": "light"
          }
        }
      ]
    },
    {
      "cell_type": "code",
      "source": [
        "x_train = x_train.reshape(60000, 784).astype('float32') / 255 # 784 = 28x28\n",
        "x_test = x_test.reshape(10000, 784).astype('float32') / 255"
      ],
      "metadata": {
        "id": "QaBqfognjJQZ"
      },
      "execution_count": null,
      "outputs": []
    },
    {
      "cell_type": "code",
      "source": [
        "# If using Google Colab, this should output \"Tesla T4\" otherwise, \n",
        "# you won't be able to use mixed precision training\n",
        "!nvidia-smi -L"
      ],
      "metadata": {
        "colab": {
          "base_uri": "https://localhost:8080/"
        },
        "id": "FMlbA75lYrWa",
        "outputId": "3f8b235e-62ef-47a9-ea52-bc45785c03ba"
      },
      "execution_count": null,
      "outputs": [
        {
          "output_type": "stream",
          "name": "stdout",
          "text": [
            "GPU 0: Tesla T4 (UUID: GPU-3e894cd9-17f4-35c0-a956-bd0a7e033cad)\n"
          ]
        }
      ]
    },
    {
      "cell_type": "code",
      "source": [
        "from tensorflow.keras import mixed_precision\n",
        "mixed_precision.set_global_policy(\"mixed_float16\")"
      ],
      "metadata": {
        "id": "RwbYHzWefyF6"
      },
      "execution_count": null,
      "outputs": []
    },
    {
      "cell_type": "code",
      "source": [
        "policy = mixed_precision.Policy('mixed_float16')\n",
        "print(f\"Compute dtype: {policy.compute_dtype}\")\n",
        "print(f\"Variable dtype: {policy.variable_dtype}\")"
      ],
      "metadata": {
        "colab": {
          "base_uri": "https://localhost:8080/"
        },
        "id": "vv_qwI6GggnQ",
        "outputId": "7f124a30-6bf8-49a4-ded3-2188bcc47f6a"
      },
      "execution_count": null,
      "outputs": [
        {
          "output_type": "stream",
          "name": "stdout",
          "text": [
            "Compute dtype: float16\n",
            "Variable dtype: float32\n"
          ]
        }
      ]
    },
    {
      "cell_type": "code",
      "source": [
        "num_units = 4096 if tf.config.list_physical_devices('GPU') else 64\n",
        "print(num_units)\n",
        "\n",
        "inputs = tf.keras.Input(shape=(784,), name='digits')\n",
        "\n",
        "x = tf.keras.layers.Dense(num_units, activation='relu', name='dense_1')(inputs)\n",
        "x = tf.keras.layers.Dense(num_units, activation='relu', name='dense_2')(x)\n",
        "x = tf.keras.layers.Dense(10, name='dense_logits')(x)\n",
        "\n",
        "outputs = tf.keras.layers.Activation('softmax', dtype='float32', name='predictions')(x)\n",
        "\n",
        "model = tf.keras.Model(inputs, outputs)\n",
        "\n",
        "model.compile(loss='sparse_categorical_crossentropy',\n",
        "              optimizer=tf.keras.optimizers.RMSprop(),\n",
        "              metrics=['accuracy'])"
      ],
      "metadata": {
        "colab": {
          "base_uri": "https://localhost:8080/"
        },
        "id": "tHNEMHOAgxZ8",
        "outputId": "81675916-1b1d-4bdb-9154-95ebd4bfa0aa"
      },
      "execution_count": null,
      "outputs": [
        {
          "output_type": "stream",
          "name": "stdout",
          "text": [
            "4096\n"
          ]
        }
      ]
    },
    {
      "cell_type": "code",
      "source": [
        "history = model.fit(x_train, y_train,\n",
        "                    batch_size=8192, # 20s per epohs if batch_size = 32 (default)\n",
        "                    # np.log2(8192) = 13\n",
        "                    epochs=5,\n",
        "                    validation_split=0.2)\n",
        "\n",
        "test_scores = model.evaluate(x_test, y_test, verbose=2)\n",
        "print('Test loss:', test_scores[0])\n",
        "print('Test accuracy:', test_scores[1])"
      ],
      "metadata": {
        "colab": {
          "base_uri": "https://localhost:8080/"
        },
        "id": "_RBH-m-Qks9V",
        "outputId": "60bdebb3-9d5c-4275-c862-a18d5760e5a1"
      },
      "execution_count": null,
      "outputs": [
        {
          "output_type": "stream",
          "name": "stdout",
          "text": [
            "Epoch 1/5\n",
            "6/6 [==============================] - 2s 119ms/step - loss: 2.6153 - accuracy: 0.3715 - val_loss: 0.8646 - val_accuracy: 0.7359\n",
            "Epoch 2/5\n",
            "6/6 [==============================] - 0s 69ms/step - loss: 1.0781 - accuracy: 0.6839 - val_loss: 0.5329 - val_accuracy: 0.8407\n",
            "Epoch 3/5\n",
            "6/6 [==============================] - 0s 67ms/step - loss: 0.5264 - accuracy: 0.8314 - val_loss: 0.4289 - val_accuracy: 0.8739\n",
            "Epoch 4/5\n",
            "6/6 [==============================] - 0s 66ms/step - loss: 0.4888 - accuracy: 0.8546 - val_loss: 0.4399 - val_accuracy: 0.8612\n",
            "Epoch 5/5\n",
            "6/6 [==============================] - 0s 66ms/step - loss: 0.3466 - accuracy: 0.8961 - val_loss: 0.2788 - val_accuracy: 0.9105\n",
            "313/313 - 1s - loss: 0.2848 - accuracy: 0.9070 - 801ms/epoch - 3ms/step\n",
            "Test loss: 0.28483977913856506\n",
            "Test accuracy: 0.9070000052452087\n"
          ]
        }
      ]
    },
    {
      "cell_type": "code",
      "source": [
        "mixed_precision.set_global_policy(\"float32\")"
      ],
      "metadata": {
        "id": "35q9R6ZimWQf"
      },
      "execution_count": null,
      "outputs": []
    },
    {
      "cell_type": "markdown",
      "source": [
        "# 07. NLP : Natural language proceccing"
      ],
      "metadata": {
        "id": "to7ekqjm5D9b"
      }
    },
    {
      "cell_type": "code",
      "source": [
        "!wget \"https://storage.googleapis.com/ztm_tf_course/nlp_getting_started.zip\"\n",
        "unzip(\"nlp_getting_started.zip\")"
      ],
      "metadata": {
        "colab": {
          "base_uri": "https://localhost:8080/"
        },
        "id": "iRpO0E6z5IA9",
        "outputId": "d119d64f-e9fe-4bef-dc2d-2d723c8185a4"
      },
      "execution_count": null,
      "outputs": [
        {
          "output_type": "stream",
          "name": "stdout",
          "text": [
            "--2023-02-26 08:57:36--  https://storage.googleapis.com/ztm_tf_course/nlp_getting_started.zip\n",
            "Resolving storage.googleapis.com (storage.googleapis.com)... 74.125.31.128, 173.194.213.128, 172.217.193.128, ...\n",
            "Connecting to storage.googleapis.com (storage.googleapis.com)|74.125.31.128|:443... connected.\n",
            "HTTP request sent, awaiting response... 200 OK\n",
            "Length: 607343 (593K) [application/zip]\n",
            "Saving to: ‘nlp_getting_started.zip.1’\n",
            "\n",
            "\r          nlp_getti   0%[                    ]       0  --.-KB/s               \rnlp_getting_started 100%[===================>] 593.11K  --.-KB/s    in 0.006s  \n",
            "\n",
            "2023-02-26 08:57:36 (103 MB/s) - ‘nlp_getting_started.zip.1’ saved [607343/607343]\n",
            "\n"
          ]
        }
      ]
    },
    {
      "cell_type": "code",
      "source": [
        "df_train = pd.read_csv(\"train.csv\")\n",
        "df_test = pd.read_csv(\"test.csv\")\n",
        "\n",
        "train_sentences, val_sentences, train_labels, val_labels = train_test_split(df_train[\"text\"].to_numpy(),\n",
        "                                                                            df_train[\"target\"].to_numpy(),\n",
        "                                                                            test_size=0.1,\n",
        "                                                                            random_state=0)"
      ],
      "metadata": {
        "id": "VarWYyfj5PHO"
      },
      "execution_count": null,
      "outputs": []
    },
    {
      "cell_type": "code",
      "source": [
        "max_length = round(sum([len(i.split()) for i in train_sentences])/len(train_sentences))\n",
        "# max length our sequences will be (e.g. how many words from a Tweet does our model see?)\n",
        "\n",
        "max_vocab_length = 10000 \n",
        "\n",
        "text_vectorizer = tf.keras.layers.TextVectorization(max_tokens=max_vocab_length,\n",
        "                                    output_mode=\"int\",\n",
        "                                    output_sequence_length=max_length)"
      ],
      "metadata": {
        "id": "65Wwu0uR5PvY"
      },
      "execution_count": null,
      "outputs": []
    },
    {
      "cell_type": "code",
      "source": [
        "text_vectorizer.adapt(train_sentences) \n",
        "\n",
        "# Exemple :\n",
        "ex_text = \"hi im dorian, nice to meet you, how are you\"\n",
        "text_vectorizer(ex_text) # array of sentences also work"
      ],
      "metadata": {
        "colab": {
          "base_uri": "https://localhost:8080/"
        },
        "id": "4YUDclJ06Pdx",
        "outputId": "2019881b-10ed-46c3-bf17-05cede76ed93"
      },
      "execution_count": null,
      "outputs": [
        {
          "output_type": "execute_result",
          "data": {
            "text/plain": [
              "<tf.Tensor: shape=(15,), dtype=int64, numpy=\n",
              "array([1385,   34,    1, 1182,    5, 1492,   12,   60,   22,   12,    0,\n",
              "          0,    0,    0,    0])>"
            ]
          },
          "metadata": {},
          "execution_count": 65
        }
      ]
    },
    {
      "cell_type": "code",
      "source": [
        "tf.random.set_seed(0)\n",
        "\n",
        "embedding = tf.keras.layers.Embedding(input_dim=max_vocab_length,\n",
        "                                      output_dim=128, # set size of embedding vector\n",
        "                                      embeddings_initializer=\"uniform\", # default, intialize randomly\n",
        "                                      input_length=max_length, # how long is each input\n",
        "                                      name=\"embedding_1\")"
      ],
      "metadata": {
        "id": "83KIT5-q6lXh"
      },
      "execution_count": null,
      "outputs": []
    },
    {
      "cell_type": "code",
      "source": [
        "text_vectorized = text_vectorizer(ex_text)\n",
        "text_embedded = embedding(text_vectorized)\n",
        "\n",
        "print(ex_text) \n",
        "print(\"lenght sentences : \",len(ex_text.split()))\n",
        "print(\"lenght vectorized\", len(text_vectorized))\n",
        "print(\"shape embedded\", (text_embedded.shape)) \n",
        "print(\"size embedded\", tf.size(text_embedded), end=\"\\n\\n\")\n",
        "text_embedded, text_vectorized"
      ],
      "metadata": {
        "colab": {
          "base_uri": "https://localhost:8080/"
        },
        "id": "4_9geGJ360Ed",
        "outputId": "7234e70d-4a3a-42c9-9c94-a7e46ecfe00a"
      },
      "execution_count": null,
      "outputs": [
        {
          "output_type": "stream",
          "name": "stdout",
          "text": [
            "hi im dorian, nice to meet you, how are you\n",
            "lenght sentences :  10\n",
            "lenght vectorized 15\n",
            "shape embedded (15, 128)\n",
            "size embedded tf.Tensor(1920, shape=(), dtype=int32)\n",
            "\n"
          ]
        },
        {
          "output_type": "execute_result",
          "data": {
            "text/plain": [
              "(<tf.Tensor: shape=(15, 128), dtype=float32, numpy=\n",
              " array([[ 0.01536657,  0.00111308,  0.0264503 , ...,  0.04757884,\n",
              "          0.04517367, -0.00125743],\n",
              "        [-0.0420594 ,  0.04822182, -0.03177505, ..., -0.02444621,\n",
              "         -0.02015538, -0.04597213],\n",
              "        [ 0.04275706, -0.0248553 ,  0.04522982, ..., -0.012274  ,\n",
              "         -0.01110582, -0.01935333],\n",
              "        ...,\n",
              "        [-0.00035412,  0.01357032, -0.02817912, ...,  0.0113738 ,\n",
              "         -0.02998546,  0.00311946],\n",
              "        [-0.00035412,  0.01357032, -0.02817912, ...,  0.0113738 ,\n",
              "         -0.02998546,  0.00311946],\n",
              "        [-0.00035412,  0.01357032, -0.02817912, ...,  0.0113738 ,\n",
              "         -0.02998546,  0.00311946]], dtype=float32)>,\n",
              " <tf.Tensor: shape=(15,), dtype=int64, numpy=\n",
              " array([1385,   34,    1, 1182,    5, 1492,   12,   60,   22,   12,    0,\n",
              "           0,    0,    0,    0])>)"
            ]
          },
          "metadata": {},
          "execution_count": 67
        }
      ]
    },
    {
      "cell_type": "code",
      "source": [
        "from tensorflow.keras import layers\n",
        "\n",
        "inputs = layers.Input(shape=(1,), dtype=\"string\")\n",
        "\n",
        "x = text_vectorizer(inputs)\n",
        "x = embedding(x)\n",
        "# x = layers.GlobalAveragePooling1D()(x) # reduce dim, without RNN\n",
        "x = layers.Bidirectional(layers.LSTM(units=64), name=\"bidirectional_LSTM\")(x) # without GlobalAveragePooling1D\n",
        "# LSTM or GRU : RNN (Recurrent Neural Networks)\n",
        "\n",
        "outputs = layers.Dense(1, activation=\"sigmoid\")(x)\n",
        "\n",
        "model_nlp_1 = tf.keras.Model(inputs, outputs, name=\"model_nlp_1\")\n",
        "\n",
        "model_nlp_1.compile(loss=\"binary_crossentropy\",\n",
        "              optimizer=\"adam\",\n",
        "              metrics=[\"accuracy\"])\n",
        "\n",
        "model_nlp_1.fit(train_sentences, # input sentences can be a list of strings due to text preprocessing layer built-in model\n",
        "                train_labels,\n",
        "                epochs=5,\n",
        "                validation_data=(val_sentences, val_labels))\n",
        "\n",
        "model_nlp_1.evaluate(val_sentences, val_labels)"
      ],
      "metadata": {
        "colab": {
          "base_uri": "https://localhost:8080/"
        },
        "id": "-VfOYuoG7M6t",
        "outputId": "a26c6625-e960-4485-bb85-4a459854b0be"
      },
      "execution_count": null,
      "outputs": [
        {
          "output_type": "stream",
          "name": "stdout",
          "text": [
            "Epoch 1/5\n",
            "215/215 [==============================] - 14s 46ms/step - loss: 0.5109 - accuracy: 0.7463 - val_loss: 0.4523 - val_accuracy: 0.7992\n",
            "Epoch 2/5\n",
            "215/215 [==============================] - 3s 14ms/step - loss: 0.3076 - accuracy: 0.8699 - val_loss: 0.4889 - val_accuracy: 0.7808\n",
            "Epoch 3/5\n",
            "215/215 [==============================] - 2s 10ms/step - loss: 0.2026 - accuracy: 0.9261 - val_loss: 0.5394 - val_accuracy: 0.7743\n",
            "Epoch 4/5\n",
            "215/215 [==============================] - 2s 9ms/step - loss: 0.1398 - accuracy: 0.9494 - val_loss: 0.6396 - val_accuracy: 0.7900\n",
            "Epoch 5/5\n",
            "215/215 [==============================] - 2s 9ms/step - loss: 0.0934 - accuracy: 0.9685 - val_loss: 0.8453 - val_accuracy: 0.7467\n",
            "24/24 [==============================] - 0s 4ms/step - loss: 0.8453 - accuracy: 0.7467\n"
          ]
        },
        {
          "output_type": "execute_result",
          "data": {
            "text/plain": [
              "[0.8452518582344055, 0.7467191815376282]"
            ]
          },
          "metadata": {},
          "execution_count": 71
        }
      ]
    },
    {
      "cell_type": "markdown",
      "source": [
        "# 08. Concatenate / Add / Subtract (with NLP but work with everythink) \n",
        "[difference between concatenate and add (or subtract) in keras](https://stackoverflow.com/questions/58857076/what-is-the-difference-between-concatenate-and-add-in-keras)"
      ],
      "metadata": {
        "id": "NFCQy-N09uF0"
      }
    },
    {
      "cell_type": "code",
      "source": [
        "# Need new embedding with new weight\n",
        "embedding_concat= layers.Embedding(input_dim=max_vocab_length,\n",
        "                                            output_dim=128,\n",
        "                                            embeddings_initializer=\"uniform\",\n",
        "                                            input_length=max_length,\n",
        "                                            name=\"embedding_concat\")"
      ],
      "metadata": {
        "id": "r_5STWXD_zI1"
      },
      "execution_count": null,
      "outputs": []
    },
    {
      "cell_type": "code",
      "source": [
        "# 1. Global average pooling model\n",
        "global_pooling_inputs = layers.Input(shape=(1,), dtype=\"string\")\n",
        "x = text_vectorizer(global_pooling_inputs)\n",
        "x = embedding_concat(x)\n",
        "global_pooling_outputs = layers.GlobalAveragePooling1D(name=\"global_av_pooling\")(x)\n",
        "global_pooling_model = tf.keras.Model(global_pooling_inputs, global_pooling_outputs, name=\"global_pooling_model\")\n",
        "\n",
        "# 2. Bidirectional GRU model\n",
        "GRU_inputs = layers.Input(shape=(1,), dtype=\"string\")\n",
        "x = text_vectorizer(GRU_inputs)\n",
        "x = embedding_concat(x)\n",
        "outputs_GRU = layers.Bidirectional(layers.GRU(units=64), name=\"bidirectional_GRU\")(x)\n",
        "GRU_model = tf.keras.Model(GRU_inputs, outputs_GRU, name=\"GRU_model\")\n",
        "\n",
        "# 3. Concatenate layer\n",
        "pooling_gru_concat = layers.Concatenate(name=\"concat\")([global_pooling_model.output, \n",
        "                                                                   GRU_model.output])\n",
        "\n",
        "# 4. Create output layers\n",
        "x = layers.Dropout(0.5)(pooling_gru_concat)\n",
        "x = layers.Dense(200, activation=\"relu\")(x)\n",
        "final_outputs = layers.Dense(1, activation=\"sigmoid\", name=\"final_output\")(x)\n",
        "\n",
        "# 5. Construct model with char and token inputs\n",
        "model_concat = tf.keras.Model([global_pooling_model.input, GRU_model.input], # Two input not require, just for the exemple\n",
        "                               final_outputs)\n",
        "\n",
        "model_concat.compile(loss=\"binary_crossentropy\",\n",
        "                    optimizer=tf.keras.optimizers.Adam(),\n",
        "                    metrics=[\"accuracy\"])"
      ],
      "metadata": {
        "id": "tuC8-dpY7pkU"
      },
      "execution_count": null,
      "outputs": []
    },
    {
      "cell_type": "code",
      "source": [
        "from tensorflow.keras.utils import plot_model\n",
        "plot_model(model_concat)"
      ],
      "metadata": {
        "colab": {
          "base_uri": "https://localhost:8080/",
          "height": 758
        },
        "id": "TvQ9Iy5YCgqN",
        "outputId": "6f359645-57bb-4a4c-f022-b9d59eadc81f"
      },
      "execution_count": null,
      "outputs": [
        {
          "output_type": "execute_result",
          "data": {
            "image/png": "[encoded data removed]",
            "text/plain": [
              "<IPython.core.display.Image object>"
            ]
          },
          "metadata": {},
          "execution_count": 118
        }
      ]
    },
    {
      "cell_type": "code",
      "source": [
        "# Combine pooling and gru input into a dataset (here same data just for the exemple)\n",
        "data = tf.data.Dataset.from_tensor_slices((train_sentences, train_sentences)) # make data WARNING : order important here first input is pooling_inputs\n",
        "labels = tf.data.Dataset.from_tensor_slices(train_labels) # make labels\n",
        "dataset = tf.data.Dataset.zip((data, labels)) # combine data and labels\n",
        "\n",
        "# Prefetch and batch train data\n",
        "dataset = dataset.batch(100).prefetch(tf.data.AUTOTUNE) \n",
        "\n",
        "# val dataset\n",
        "val_data = tf.data.Dataset.from_tensor_slices((val_sentences, val_sentences)) # make data WARNING : order important here first input is pooling_inputs\n",
        "val_labels_concat = tf.data.Dataset.from_tensor_slices(val_labels) # make labels\n",
        "val_dataset = tf.data.Dataset.zip((val_data, val_labels_concat)) # combine data and labels\n",
        "val_dataset = val_dataset.batch(100).prefetch(tf.data.AUTOTUNE) "
      ],
      "metadata": {
        "id": "hkOtTK3xC87L"
      },
      "execution_count": null,
      "outputs": []
    },
    {
      "cell_type": "code",
      "source": [
        "model_concat.fit(dataset,\n",
        "                 epochs=10,\n",
        "                 validation_data=val_dataset) # overfitting"
      ],
      "metadata": {
        "colab": {
          "base_uri": "https://localhost:8080/"
        },
        "id": "gXIGwPE6Fppr",
        "outputId": "0d67f140-d14c-483b-9caf-44b126adec87"
      },
      "execution_count": null,
      "outputs": [
        {
          "output_type": "stream",
          "name": "stdout",
          "text": [
            "Epoch 1/10\n",
            "69/69 [==============================] - 11s 91ms/step - loss: 0.5953 - accuracy: 0.6706 - val_loss: 0.4586 - val_accuracy: 0.7940\n",
            "Epoch 2/10\n",
            "69/69 [==============================] - 1s 10ms/step - loss: 0.3432 - accuracy: 0.8594 - val_loss: 0.4830 - val_accuracy: 0.7835\n",
            "Epoch 3/10\n",
            "69/69 [==============================] - 1s 10ms/step - loss: 0.2252 - accuracy: 0.9134 - val_loss: 0.5881 - val_accuracy: 0.7651\n",
            "Epoch 4/10\n",
            "69/69 [==============================] - 1s 15ms/step - loss: 0.1571 - accuracy: 0.9456 - val_loss: 0.6682 - val_accuracy: 0.7822\n",
            "Epoch 5/10\n",
            "69/69 [==============================] - 1s 13ms/step - loss: 0.1209 - accuracy: 0.9597 - val_loss: 0.7318 - val_accuracy: 0.7900\n",
            "Epoch 6/10\n",
            "69/69 [==============================] - 1s 9ms/step - loss: 0.1042 - accuracy: 0.9629 - val_loss: 0.8402 - val_accuracy: 0.7690\n",
            "Epoch 7/10\n",
            "69/69 [==============================] - 1s 10ms/step - loss: 0.0900 - accuracy: 0.9656 - val_loss: 1.1157 - val_accuracy: 0.7638\n",
            "Epoch 8/10\n",
            "69/69 [==============================] - 1s 10ms/step - loss: 0.0658 - accuracy: 0.9721 - val_loss: 1.0914 - val_accuracy: 0.7651\n",
            "Epoch 9/10\n",
            "69/69 [==============================] - 1s 10ms/step - loss: 0.0504 - accuracy: 0.9747 - val_loss: 1.3499 - val_accuracy: 0.7625\n",
            "Epoch 10/10\n",
            "69/69 [==============================] - 1s 10ms/step - loss: 0.0470 - accuracy: 0.9778 - val_loss: 1.4421 - val_accuracy: 0.7533\n"
          ]
        },
        {
          "output_type": "execute_result",
          "data": {
            "text/plain": [
              "<keras.callbacks.History at 0x7f4d40cf3250>"
            ]
          },
          "metadata": {},
          "execution_count": 120
        }
      ]
    },
    {
      "cell_type": "markdown",
      "source": [
        "# 09. Time Series Forecasting\n",
        "![time series train test split](https://raw.githubusercontent.com/mrdbourke/tensorflow-deep-learning/main/images/10-time-series-train-test-split.png)"
      ],
      "metadata": {
        "id": "n4chGR4PIpDY"
      }
    },
    {
      "cell_type": "code",
      "source": [
        "!wget https://github.com/mrdbourke/tensorflow-deep-learning/blob/main/extras/BTC_USD_2013-10-01_2021-05-18-CoinDesk.csv"
      ],
      "metadata": {
        "colab": {
          "base_uri": "https://localhost:8080/"
        },
        "id": "IG9jaQCgF2uG",
        "outputId": "d0e0150f-79a5-4e05-b673-9b0d00342bee"
      },
      "execution_count": null,
      "outputs": [
        {
          "output_type": "stream",
          "name": "stdout",
          "text": [
            "--2023-02-28 20:50:41--  https://github.com/mrdbourke/tensorflow-deep-learning/blob/main/extras/BTC_USD_2013-10-01_2021-05-18-CoinDesk.csv\n",
            "Resolving github.com (github.com)... 20.205.243.166\n",
            "Connecting to github.com (github.com)|20.205.243.166|:443... connected.\n",
            "HTTP request sent, awaiting response... 200 OK\n",
            "Length: unspecified [text/html]\n",
            "Saving to: ‘BTC_USD_2013-10-01_2021-05-18-CoinDesk.csv’\n",
            "\n",
            "BTC_USD_2013-10-01_     [ <=>                ]   1.08M  --.-KB/s    in 0.04s   \n",
            "\n",
            "2023-02-28 20:50:41 (29.2 MB/s) - ‘BTC_USD_2013-10-01_2021-05-18-CoinDesk.csv’ saved [1130888]\n",
            "\n"
          ]
        }
      ]
    },
    {
      "cell_type": "code",
      "source": [
        "path = Path.cwd() / \"BTC_USD_2013-10-01_2021-05-18-CoinDesk.csv\"\n",
        "df = pd.read_html(path, \n",
        "                  parse_dates=[\"Date\"],\n",
        "                  index_col=[\"Date\"])[0]\n",
        "\n",
        "df = df.drop(\"Unnamed: 0\", axis=1)\n",
        "df.plot()"
      ],
      "metadata": {
        "colab": {
          "base_uri": "https://localhost:8080/",
          "height": 296
        },
        "id": "DiDATuSvJGFu",
        "outputId": "be5f7b6d-9d1a-48f7-889b-589bff410a8c"
      },
      "execution_count": null,
      "outputs": [
        {
          "output_type": "execute_result",
          "data": {
            "text/plain": [
              "<AxesSubplot:xlabel='Date'>"
            ]
          },
          "metadata": {},
          "execution_count": 4
        },
        {
          "output_type": "display_data",
          "data": {
            "text/plain": [
              "<Figure size 432x288 with 1 Axes>"
            ],
            "image/png": "[encoded data removed]"
          },
          "metadata": {
            "needs_background": "light"
          }
        }
      ]
    },
    {
      "cell_type": "code",
      "source": [
        "df.head(2)"
      ],
      "metadata": {
        "colab": {
          "base_uri": "https://localhost:8080/",
          "height": 143
        },
        "id": "UII7Kkn-J1aD",
        "outputId": "d6818e03-8547-48ec-d3a9-fb3edc407535"
      },
      "execution_count": null,
      "outputs": [
        {
          "output_type": "execute_result",
          "data": {
            "text/plain": [
              "           Currency  Closing Price (USD)  24h Open (USD)  24h High (USD)  \\\n",
              "Date                                                                       \n",
              "2013-10-01      BTC            123.65499       124.30466       124.75166   \n",
              "2013-10-02      BTC            125.45500       123.65499       125.75850   \n",
              "\n",
              "            24h Low (USD)  \n",
              "Date                       \n",
              "2013-10-01      122.56349  \n",
              "2013-10-02      123.63383  "
            ],
            "text/html": [
              "\n",
              "  <div id=\"df-e743e63b-ecc7-443c-99ed-17c0a66e687d\">\n",
              "    <div class=\"colab-df-container\">\n",
              "      <div>\n",
              "<style scoped>\n",
              "    .dataframe tbody tr th:only-of-type {\n",
              "        vertical-align: middle;\n",
              "    }\n",
              "\n",
              "    .dataframe tbody tr th {\n",
              "        vertical-align: top;\n",
              "    }\n",
              "\n",
              "    .dataframe thead th {\n",
              "        text-align: right;\n",
              "    }\n",
              "</style>\n",
              "<table border=\"1\" class=\"dataframe\">\n",
              "  <thead>\n",
              "    <tr style=\"text-align: right;\">\n",
              "      <th></th>\n",
              "      <th>Currency</th>\n",
              "      <th>Closing Price (USD)</th>\n",
              "      <th>24h Open (USD)</th>\n",
              "      <th>24h High (USD)</th>\n",
              "      <th>24h Low (USD)</th>\n",
              "    </tr>\n",
              "    <tr>\n",
              "      <th>Date</th>\n",
              "      <th></th>\n",
              "      <th></th>\n",
              "      <th></th>\n",
              "      <th></th>\n",
              "      <th></th>\n",
              "    </tr>\n",
              "  </thead>\n",
              "  <tbody>\n",
              "    <tr>\n",
              "      <th>2013-10-01</th>\n",
              "      <td>BTC</td>\n",
              "      <td>123.65499</td>\n",
              "      <td>124.30466</td>\n",
              "      <td>124.75166</td>\n",
              "      <td>122.56349</td>\n",
              "    </tr>\n",
              "    <tr>\n",
              "      <th>2013-10-02</th>\n",
              "      <td>BTC</td>\n",
              "      <td>125.45500</td>\n",
              "      <td>123.65499</td>\n",
              "      <td>125.75850</td>\n",
              "      <td>123.63383</td>\n",
              "    </tr>\n",
              "  </tbody>\n",
              "</table>\n",
              "</div>\n",
              "      <button class=\"colab-df-convert\" onclick=\"convertToInteractive('df-e743e63b-ecc7-443c-99ed-17c0a66e687d')\"\n",
              "              title=\"Convert this dataframe to an interactive table.\"\n",
              "              style=\"display:none;\">\n",
              "        \n",
              "  <svg xmlns=\"http://www.w3.org/2000/svg\" height=\"24px\"viewBox=\"0 0 24 24\"\n",
              "       width=\"24px\">\n",
              "    <path d=\"M0 0h24v24H0V0z\" fill=\"none\"/>\n",
              "    <path d=\"M18.56 5.44l.94 2.06.94-2.06 2.06-.94-2.06-.94-.94-2.06-.94 2.06-2.06.94zm-11 1L8.5 8.5l.94-2.06 2.06-.94-2.06-.94L8.5 2.5l-.94 2.06-2.06.94zm10 10l.94 2.06.94-2.06 2.06-.94-2.06-.94-.94-2.06-.94 2.06-2.06.94z\"/><path d=\"M17.41 7.96l-1.37-1.37c-.4-.4-.92-.59-1.43-.59-.52 0-1.04.2-1.43.59L10.3 9.45l-7.72 7.72c-.78.78-.78 2.05 0 2.83L4 21.41c.39.39.9.59 1.41.59.51 0 1.02-.2 1.41-.59l7.78-7.78 2.81-2.81c.8-.78.8-2.07 0-2.86zM5.41 20L4 18.59l7.72-7.72 1.47 1.35L5.41 20z\"/>\n",
              "  </svg>\n",
              "      </button>\n",
              "      \n",
              "  <style>\n",
              "    .colab-df-container {\n",
              "      display:flex;\n",
              "      flex-wrap:wrap;\n",
              "      gap: 12px;\n",
              "    }\n",
              "\n",
              "    .colab-df-convert {\n",
              "      background-color: #E8F0FE;\n",
              "      border: none;\n",
              "      border-radius: 50%;\n",
              "      cursor: pointer;\n",
              "      display: none;\n",
              "      fill: #1967D2;\n",
              "      height: 32px;\n",
              "      padding: 0 0 0 0;\n",
              "      width: 32px;\n",
              "    }\n",
              "\n",
              "    .colab-df-convert:hover {\n",
              "      background-color: #E2EBFA;\n",
              "      box-shadow: 0px 1px 2px rgba(60, 64, 67, 0.3), 0px 1px 3px 1px rgba(60, 64, 67, 0.15);\n",
              "      fill: #174EA6;\n",
              "    }\n",
              "\n",
              "    [theme=dark] .colab-df-convert {\n",
              "      background-color: #3B4455;\n",
              "      fill: #D2E3FC;\n",
              "    }\n",
              "\n",
              "    [theme=dark] .colab-df-convert:hover {\n",
              "      background-color: #434B5C;\n",
              "      box-shadow: 0px 1px 3px 1px rgba(0, 0, 0, 0.15);\n",
              "      filter: drop-shadow(0px 1px 2px rgba(0, 0, 0, 0.3));\n",
              "      fill: #FFFFFF;\n",
              "    }\n",
              "  </style>\n",
              "\n",
              "      <script>\n",
              "        const buttonEl =\n",
              "          document.querySelector('#df-e743e63b-ecc7-443c-99ed-17c0a66e687d button.colab-df-convert');\n",
              "        buttonEl.style.display =\n",
              "          google.colab.kernel.accessAllowed ? 'block' : 'none';\n",
              "\n",
              "        async function convertToInteractive(key) {\n",
              "          const element = document.querySelector('#df-e743e63b-ecc7-443c-99ed-17c0a66e687d');\n",
              "          const dataTable =\n",
              "            await google.colab.kernel.invokeFunction('convertToInteractive',\n",
              "                                                     [key], {});\n",
              "          if (!dataTable) return;\n",
              "\n",
              "          const docLinkHtml = 'Like what you see? Visit the ' +\n",
              "            '<a target=\"_blank\" href=https://colab.research.google.com/notebooks/data_table.ipynb>data table notebook</a>'\n",
              "            + ' to learn more about interactive tables.';\n",
              "          element.innerHTML = '';\n",
              "          dataTable['output_type'] = 'display_data';\n",
              "          await google.colab.output.renderOutput(dataTable, element);\n",
              "          const docLink = document.createElement('div');\n",
              "          docLink.innerHTML = docLinkHtml;\n",
              "          element.appendChild(docLink);\n",
              "        }\n",
              "      </script>\n",
              "    </div>\n",
              "  </div>\n",
              "  "
            ]
          },
          "metadata": {},
          "execution_count": 5
        }
      ]
    },
    {
      "cell_type": "code",
      "source": [
        "bitcoin_prices = pd.DataFrame(df[\"Closing Price (USD)\"]).rename(columns={\"Closing Price (USD)\": \"price\"})\n",
        "\n",
        "timesteps = bitcoin_prices.index.to_numpy()\n",
        "price = bitcoin_prices.price.to_numpy()\n",
        "\n",
        "train_size = int(0.8 * len(price))\n",
        "\n",
        "train_price = price[:train_size]\n",
        "train_timesteps = timesteps[:train_size]\n",
        "\n",
        "test_price = price[train_size:]\n",
        "test_timesteps = timesteps[train_size:]"
      ],
      "metadata": {
        "id": "VYEOW6DeJIZd"
      },
      "execution_count": null,
      "outputs": []
    },
    {
      "cell_type": "code",
      "source": [
        "step_size = 1\n",
        "window_size = 7 + step_size\n",
        "train_dataset = tf.data.Dataset.from_tensor_slices(train_price)\n",
        "train_dataset = train_dataset.window(window_size, shift=step_size, drop_remainder=True)\n",
        "# The drop_remainder parameter specifies whether to drop the final elements of the dataset if the remaining elements are fewer than the window_size\n",
        "train_dataset = train_dataset.flat_map(lambda x: x.batch(window_size))\n",
        "train_dataset = train_dataset.map(lambda x: (x[:-1], x[-1:])).batch(32)\n",
        "\n",
        "test_dataset = tf.data.Dataset.from_tensor_slices(test_price)\n",
        "test_dataset = test_dataset.window(window_size, shift=step_size, drop_remainder=True)\n",
        "# The drop_remainder parameter specifies whether to drop the final elements of the dataset if the remaining elements are fewer than the window_size\n",
        "test_dataset = test_dataset.flat_map(lambda x: x.batch(window_size))\n",
        "test_dataset = test_dataset.map(lambda x: (x[:-1], x[-1:])).batch(32)"
      ],
      "metadata": {
        "id": "wL4KiII_2js2"
      },
      "execution_count": null,
      "outputs": []
    },
    {
      "cell_type": "code",
      "source": [
        "for train_price, target in train_dataset.take(1):\n",
        "    for i in range(3):\n",
        "        print(\"Window :\", train_price[i].numpy(), \"-> target :\",target[i].numpy()) # batch 32"
      ],
      "metadata": {
        "colab": {
          "base_uri": "https://localhost:8080/"
        },
        "id": "P7ExEsX25mu0",
        "outputId": "fe81baaf-6620-47f7-caac-6d82e9b8ce32"
      },
      "execution_count": null,
      "outputs": [
        {
          "output_type": "stream",
          "name": "stdout",
          "text": [
            "Window : [123.65499 125.455   108.58483 118.67466 121.33866 120.65533 121.795  ] -> target : [123.033]\n",
            "Window : [125.455   108.58483 118.67466 121.33866 120.65533 121.795   123.033  ] -> target : [124.049]\n",
            "Window : [108.58483 118.67466 121.33866 120.65533 121.795   123.033   124.049  ] -> target : [125.96116]\n"
          ]
        }
      ]
    },
    {
      "cell_type": "code",
      "source": [
        "train_dataset = train_dataset.prefetch(tf.data.AUTOTUNE)"
      ],
      "metadata": {
        "id": "tnffjkdNhnl1"
      },
      "execution_count": null,
      "outputs": []
    },
    {
      "cell_type": "code",
      "source": [
        "%%time\n",
        "from tensorflow.keras import layers \n",
        "tf.random.set_seed(42)\n",
        "\n",
        "model_time_series_1 = tf.keras.Sequential([\n",
        "                        layers.Input(shape=(7,)),\n",
        "                        layers.Dense(128, activation=\"relu\"),\n",
        "                        layers.Dense(step_size, activation=\"linear\") # Same as having no activation\n",
        " ], name=\"model_time_series_1\")\n",
        "\n",
        "model_time_series_1.compile(loss=\"mae\",\n",
        "                            optimizer=tf.keras.optimizers.Adam(),\n",
        "                            metrics=[\"mae\"]) # we don't necessarily need this when the loss function is already MAE\n",
        "\n",
        "# Fit model\n",
        "model_time_series_1.fit(train_dataset, \n",
        "                        epochs=100,\n",
        "                        verbose=False)"
      ],
      "metadata": {
        "colab": {
          "base_uri": "https://localhost:8080/"
        },
        "id": "dR_0s1fg6FR-",
        "outputId": "625a2308-57d6-4cc6-e07a-0c49875f48a2"
      },
      "execution_count": null,
      "outputs": [
        {
          "output_type": "stream",
          "name": "stdout",
          "text": [
            "CPU times: user 50.5 s, sys: 4.91 s, total: 55.4 s\n",
            "Wall time: 45.3 s\n"
          ]
        },
        {
          "output_type": "execute_result",
          "data": {
            "text/plain": [
              "<keras.callbacks.History at 0x7f7ffa868eb0>"
            ]
          },
          "metadata": {},
          "execution_count": 26
        }
      ]
    },
    {
      "cell_type": "code",
      "source": [
        "model_time_series_1.evaluate(test_dataset)"
      ],
      "metadata": {
        "colab": {
          "base_uri": "https://localhost:8080/"
        },
        "id": "bqHSIbUfCkfF",
        "outputId": "4c9ded88-2282-40dd-d02d-66966036ad67"
      },
      "execution_count": null,
      "outputs": [
        {
          "output_type": "stream",
          "name": "stdout",
          "text": [
            "18/18 [==============================] - 0s 6ms/step - loss: 639.0350 - mae: 639.0350\n"
          ]
        },
        {
          "output_type": "execute_result",
          "data": {
            "text/plain": [
              "[639.0350341796875, 639.0350341796875]"
            ]
          },
          "metadata": {},
          "execution_count": 28
        }
      ]
    },
    {
      "cell_type": "markdown",
      "source": [
        "## Other Way to windowed data"
      ],
      "metadata": {
        "id": "KiF8wwn4ZmQA"
      }
    },
    {
      "cell_type": "markdown",
      "source": [
        "> NOTE : `tf.data.Dataset` slow down the code, use insted :"
      ],
      "metadata": {
        "id": "bJVJjfs0jX9C"
      }
    },
    {
      "cell_type": "code",
      "source": [
        "def get_labelled_windows(x, horizon=1):\n",
        "  \"\"\"\n",
        "  Creates labels for windowed dataset.\n",
        "\n",
        "  E.g. if horizon=1 (default)\n",
        "  Input: [[1, 2, 3, 4, 5, 6]] -> Output: ([1, 2, 3, 4, 5], [6])\n",
        "  \"\"\"\n",
        "  window_array = x[:, :-horizon]\n",
        "  horizon_array = x[:, -horizon:]\n",
        "  return window_array, horizon_array"
      ],
      "metadata": {
        "id": "T9r_EGBTDImU"
      },
      "execution_count": null,
      "outputs": []
    },
    {
      "cell_type": "code",
      "source": [
        "def make_windows(x, window_size:int, horizon:int):\n",
        "    \"\"\"\n",
        "    input : np.array([1,2,3,...,10])\n",
        "    \n",
        "    output: np.array([\n",
        "        [1,2,...,7],\n",
        "        [2,3,...,8],\n",
        "        [3,4,...,9]\n",
        "    ]),\n",
        "    np.array([8,9,10])\n",
        "    \"\"\"\n",
        "    raw_size = window_size + horizon\n",
        "    column_size = len(x) - raw_size + 1\n",
        "\n",
        "    raw_index = np.expand_dims(np.arange(raw_size), axis=0) # [[0,1,2,...,n]]\n",
        "    column_index = np.expand_dims(np.arange(column_size), axis=1) # [[1],[2],...,[p]]\n",
        "\n",
        "    window_index = raw_index + column_index\n",
        "    windowed_array = x[window_index]\n",
        "\n",
        "    windows, labels = get_labelled_windows(windowed_array, horizon=horizon)\n",
        "    return windows, labels"
      ],
      "metadata": {
        "id": "wMbrk6l4jj2K"
      },
      "execution_count": null,
      "outputs": []
    },
    {
      "cell_type": "markdown",
      "source": [
        "With pandas "
      ],
      "metadata": {
        "id": "hj2L76P7Zqh1"
      }
    },
    {
      "cell_type": "code",
      "source": [
        "for i in range(7): # Shift values for each step in WINDOW_SIZE\n",
        "  bitcoin_prices[f\"Price+{i+1}\"] = bitcoin_prices[\"price\"].shift(periods=i+1)\n",
        "bitcoin_prices.head(10)\n",
        "# can add oter feature easily : bitcoin_prices[\"new_feature\"] = new_feature\n",
        "\n",
        "features = bitcoin_prices_windowed.dropna().drop(\"price\", axis=1).astype(np.float32) \n",
        "target = bitcoin_prices_windowed.dropna()[\"price\"].astype(np.float32)"
      ],
      "metadata": {
        "id": "UtC20AQSZsS3"
      },
      "execution_count": null,
      "outputs": []
    },
    {
      "cell_type": "code",
      "source": [],
      "metadata": {
        "id": "WUpfg96jaMiT"
      },
      "execution_count": null,
      "outputs": []
    }
  ]
}